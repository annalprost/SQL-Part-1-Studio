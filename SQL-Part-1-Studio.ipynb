{
    "metadata": {
        "kernelspec": {
            "name": "SQL",
            "display_name": "SQL",
            "language": "sql"
        },
        "language_info": {
            "name": "sql",
            "version": ""
        },
        "extensions": {
            "azuredatastudio": {
                "version": 1,
                "views": []
            }
        }
    },
    "nbformat_minor": 2,
    "nbformat": 4,
    "cells": [
        {
            "cell_type": "markdown",
            "source": [
                "# SQL Part 1 Studio\n",
                "\n",
                "### Let's practice your SQL quering skills!  For each question, work along in the notebook adding your query and answering the questions. \n",
                "\n",
                "### **DataSet**\n",
                "\n",
                "### <span style=\"font-size: 14px; font-family: -apple-system, BlinkMacSystemFont, sans-serif;\">We will be using the Goodbooks-10k dataset from the exercises in the prep work.&nbsp; Feel free to reference your notebook.</span>\n",
                "\n",
                "- The dataset can be found here: [goodbooks-10k](https://www.kaggle.com/zygmunt/goodbooks-10k)\n",
                "- You can access the **BooksDB** in the Launchcode server.\n",
                "\n",
                "### **Business Issue**\n",
                "\n",
                "You work for a small independant book store and you want to increase sales by running various promotions.  Start by becoming more familar with the BooksDB."
            ],
            "metadata": {
                "azdata_cell_guid": "b9034d8a-b631-48bf-a895-1012a6ffa784"
            }
        },
        {
            "cell_type": "markdown",
            "source": [
                "## Part 1. BooksDB Questions\n",
                "\n",
                "<span style=\"color: rgba(0, 0, 0, 0.87); font-family: -apple-system, system-ui, &quot;Segoe UI&quot;, Helvetica, Arial, sans-serif, &quot;Apple Color Emoji&quot;, &quot;Segoe UI Emoji&quot;, &quot;Segoe UI Symbol&quot;; background-color: rgb(255, 255, 255);\">Question 1:&nbsp; Write a query of the books table, returning the TOP 100 results and&nbsp; includes, book_id, authors, title, average_rating.&nbsp; Use an alias for at least one column and in descending order of rating.&nbsp; What is the number one book?&nbsp;</span> \n",
                "\n",
                "<span style=\"color: rgba(0, 0, 0, 0.87); font-family: -apple-system, system-ui, &quot;Segoe UI&quot;, Helvetica, Arial, sans-serif, &quot;Apple Color Emoji&quot;, &quot;Segoe UI Emoji&quot;, &quot;Segoe UI Symbol&quot;; background-color: rgb(255, 255, 255);\">The Complete Calvin and Hobbes by Bill Watterson</span>"
            ],
            "metadata": {
                "azdata_cell_guid": "6e55eb1c-4a14-4076-90d2-95ed17a6309f",
                "tags": [
                    "hide_input"
                ]
            },
            "attachments": {}
        },
        {
            "cell_type": "code",
            "source": [
                "-- return top 100 results\n",
                "SELECT TOP 100 book_id, authors, title, average_rating AS \"Average Ratings\"\n",
                "FROM BooksDB.dbo.books\n",
                "ORDER BY average_rating DESC"
            ],
            "metadata": {
                "azdata_cell_guid": "470b0ca4-9a32-4b46-a42e-bbb645101769",
                "tags": [],
                "language": "sql"
            },
            "outputs": [
                {
                    "output_type": "display_data",
                    "data": {
                        "text/html": "(100 rows affected)"
                    },
                    "metadata": {}
                },
                {
                    "output_type": "display_data",
                    "data": {
                        "text/html": "Total execution time: 00:00:00.095"
                    },
                    "metadata": {}
                },
                {
                    "output_type": "execute_result",
                    "metadata": {},
                    "execution_count": 3,
                    "data": {
                        "application/vnd.dataresource+json": {
                            "schema": {
                                "fields": [
                                    {
                                        "name": "book_id"
                                    },
                                    {
                                        "name": "authors"
                                    },
                                    {
                                        "name": "title"
                                    },
                                    {
                                        "name": "Average Ratings"
                                    }
                                ]
                            },
                            "data": [
                                {
                                    "book_id": "24812",
                                    "authors": "Bill Watterson",
                                    "title": "The Complete Calvin and Hobbes",
                                    "Average Ratings": "4.82"
                                },
                                {
                                    "book_id": "17332218",
                                    "authors": "Brandon Sanderson",
                                    "title": "Words of Radiance (The Stormlight Archive, #2)",
                                    "Average Ratings": "4.77"
                                },
                                {
                                    "book_id": "8",
                                    "authors": "J.K. Rowling, Mary GrandPré",
                                    "title": "Harry Potter Boxed Set, Books 1-5 (Harry Potter, #1-5)",
                                    "Average Ratings": "4.77"
                                },
                                {
                                    "book_id": "5031805",
                                    "authors": "Anonymous, Lane T. Dennis, Wayne A. Grudem",
                                    "title": "ESV Study Bible",
                                    "Average Ratings": "4.76"
                                },
                                {
                                    "book_id": "95602",
                                    "authors": "Francine Rivers",
                                    "title": "Mark of the Lion Trilogy",
                                    "Average Ratings": "4.76"
                                },
                                {
                                    "book_id": "24814",
                                    "authors": "Bill Watterson",
                                    "title": "It's a Magical World: A Calvin and Hobbes Collection",
                                    "Average Ratings": "4.75"
                                },
                                {
                                    "book_id": "862041",
                                    "authors": "J.K. Rowling",
                                    "title": "Harry Potter Boxset (Harry Potter, #1-7)",
                                    "Average Ratings": "4.74"
                                },
                                {
                                    "book_id": "70489",
                                    "authors": "Bill Watterson",
                                    "title": "There's Treasure Everywhere: A Calvin and Hobbes Collection",
                                    "Average Ratings": "4.74"
                                },
                                {
                                    "book_id": "10",
                                    "authors": "J.K. Rowling",
                                    "title": "Harry Potter Collection (Harry Potter, #1-6)",
                                    "Average Ratings": "4.73"
                                },
                                {
                                    "book_id": "59715",
                                    "authors": "Bill Watterson",
                                    "title": "The Authoritative Calvin and Hobbes: A Calvin and Hobbes Treasury",
                                    "Average Ratings": "4.73"
                                },
                                {
                                    "book_id": "24815",
                                    "authors": "Bill Watterson",
                                    "title": "The Indispensable Calvin and Hobbes",
                                    "Average Ratings": "4.73"
                                },
                                {
                                    "book_id": "17927395",
                                    "authors": "Sarah J. Maas",
                                    "title": "A Court of Mist and Fury (A Court of Thorns and Roses, #2)",
                                    "Average Ratings": "4.72"
                                },
                                {
                                    "book_id": "70487",
                                    "authors": "Bill Watterson",
                                    "title": "Attack of the Deranged Mutant Killer Monster Snow Goons",
                                    "Average Ratings": "4.72"
                                },
                                {
                                    "book_id": "24816",
                                    "authors": "Bill Watterson",
                                    "title": "Homicidal Psycho Jungle Cat: A Calvin and Hobbes Collection",
                                    "Average Ratings": "4.71"
                                },
                                {
                                    "book_id": "121792",
                                    "authors": "Bill Watterson",
                                    "title": "The Revenge of the Baby-Sat",
                                    "Average Ratings": "4.71"
                                },
                                {
                                    "book_id": "2350129",
                                    "authors": "The Church of Jesus Christ of Latter-day Saints",
                                    "title": "Preach My Gospel: A Guide To Missionary Service",
                                    "Average Ratings": "4.71"
                                },
                                {
                                    "book_id": "24818",
                                    "authors": "Bill Watterson",
                                    "title": "The Days Are Just Packed: A Calvin and Hobbes Collection",
                                    "Average Ratings": "4.68"
                                },
                                {
                                    "book_id": "265205",
                                    "authors": "Anonymous, Ronald A. Beers, Ronald A. Beers",
                                    "title": "Life Application Study Bible: NIV",
                                    "Average Ratings": "4.67"
                                },
                                {
                                    "book_id": "9329354",
                                    "authors": "Brandon Sanderson",
                                    "title": "The Way of Kings, Part 1 (The Stormlight Archive #1.1)",
                                    "Average Ratings": "4.67"
                                },
                                {
                                    "book_id": "99298",
                                    "authors": "J.K. Rowling, Mary GrandPré",
                                    "title": "The Harry Potter Collection 1-4 (Harry Potter, #1-4)",
                                    "Average Ratings": "4.66"
                                },
                                {
                                    "book_id": "5883777",
                                    "authors": "Anonymous",
                                    "title": "The Holy Bible: English Standard Version",
                                    "Average Ratings": "4.66"
                                },
                                {
                                    "book_id": "24494",
                                    "authors": "Bill Watterson",
                                    "title": "The Calvin and Hobbes Lazy Sunday Book",
                                    "Average Ratings": "4.66"
                                },
                                {
                                    "book_id": "43070",
                                    "authors": "Bill Watterson",
                                    "title": "The Essential Calvin and Hobbes: A Calvin and Hobbes Treasury",
                                    "Average Ratings": "4.65"
                                },
                                {
                                    "book_id": "18337259",
                                    "authors": "Daniel Abraham, George R.R. Martin, Tommy Patterson",
                                    "title": "A Game of Thrones: Comic Book, Issue 1",
                                    "Average Ratings": "4.65"
                                },
                                {
                                    "book_id": "23753",
                                    "authors": "Neil Gaiman, Mike Dringenberg, Chris Bachalo, Michael Zulli, Kelly Jones, Charles Vess, Colleen Doran, Malcolm Jones III, Steve Parkhouse, Daniel Vozzo, Lee Loughridge, Steve Oliff, Todd Klein, Dave McKean, Sam Kieth",
                                    "title": "The Absolute Sandman, Volume One",
                                    "Average Ratings": "4.65"
                                },
                                {
                                    "book_id": "7235533",
                                    "authors": "Brandon Sanderson",
                                    "title": "The Way of Kings (The Stormlight Archive, #1)",
                                    "Average Ratings": "4.64"
                                },
                                {
                                    "book_id": "24813",
                                    "authors": "Bill Watterson",
                                    "title": "The Calvin and Hobbes Tenth Anniversary Book",
                                    "Average Ratings": "4.63"
                                },
                                {
                                    "book_id": "9814682",
                                    "authors": "George R.R. Martin",
                                    "title": "A Song of Ice and Fire (A Song of Ice and Fire, #1-4)",
                                    "Average Ratings": "4.63"
                                },
                                {
                                    "book_id": "12177850",
                                    "authors": "George R.R. Martin",
                                    "title": "A Song of Ice and Fire (A Song of Ice and Fire, #1-5)",
                                    "Average Ratings": "4.63"
                                },
                                {
                                    "book_id": "481749",
                                    "authors": "James E. Talmage",
                                    "title": "Jesus the Christ",
                                    "Average Ratings": "4.63"
                                },
                                {
                                    "book_id": "46292",
                                    "authors": "Hafez",
                                    "title": "The Divan",
                                    "Average Ratings": "4.63"
                                },
                                {
                                    "book_id": "6801614",
                                    "authors": "Eiichirō Oda",
                                    "title": "One Piece, Volume 38: Rocketman!! (One Piece, #38)",
                                    "Average Ratings": "4.63"
                                },
                                {
                                    "book_id": "22299763",
                                    "authors": "Leigh Bardugo",
                                    "title": "Crooked Kingdom (Six of Crows, #2)",
                                    "Average Ratings": "4.62"
                                },
                                {
                                    "book_id": "32075671",
                                    "authors": "Angie Thomas",
                                    "title": "The Hate U Give",
                                    "Average Ratings": "4.62"
                                },
                                {
                                    "book_id": "136251",
                                    "authors": "J.K. Rowling, Mary GrandPré",
                                    "title": "Harry Potter and the Deathly Hallows (Harry Potter, #7)",
                                    "Average Ratings": "4.61"
                                },
                                {
                                    "book_id": "77727",
                                    "authors": "Bill Watterson, G.B. Trudeau",
                                    "title": "Calvin and Hobbes",
                                    "Average Ratings": "4.61"
                                },
                                {
                                    "book_id": "280111",
                                    "authors": "Anonymous",
                                    "title": "Holy Bible: New International Version",
                                    "Average Ratings": "4.61"
                                },
                                {
                                    "book_id": "2223324",
                                    "authors": "John   Williams",
                                    "title": "Harry Potter and the Chamber of Secrets: Sheet Music for Flute with C.D",
                                    "Average Ratings": "4.61"
                                },
                                {
                                    "book_id": "6339989",
                                    "authors": "Richelle Mead",
                                    "title": "Vampire Academy Collection (Vampire Academy, #1-3)",
                                    "Average Ratings": "4.61"
                                },
                                {
                                    "book_id": "596259",
                                    "authors": "Gordon B. Hinckley",
                                    "title": "Standing for Something: 10 Neglected Virtues That Will Heal Our Hearts and Homes",
                                    "Average Ratings": "4.61"
                                },
                                {
                                    "book_id": "47697",
                                    "authors": "Alisa Kwitney, Neil Gaiman",
                                    "title": "The Sandman: King of Dreams",
                                    "Average Ratings": "4.61"
                                },
                                {
                                    "book_id": "18006496",
                                    "authors": "Sarah J. Maas",
                                    "title": "Queen of Shadows (Throne of Glass, #4)",
                                    "Average Ratings": "4.6"
                                },
                                {
                                    "book_id": "95617",
                                    "authors": "Francine Rivers, Richard Ferrone",
                                    "title": "A Voice in the Wind (Mark of the Lion, #1)",
                                    "Average Ratings": "4.6"
                                },
                                {
                                    "book_id": "46601",
                                    "authors": "Francine Rivers",
                                    "title": "An Echo in the Darkness (Mark of the Lion, #2)",
                                    "Average Ratings": "4.6"
                                },
                                {
                                    "book_id": "7025086",
                                    "authors": "Christopher Yost, Pasqual Ferry, Orson Scott Card",
                                    "title": "Ender's Game, Volume 2: Command School",
                                    "Average Ratings": "4.6"
                                },
                                {
                                    "book_id": "18335634",
                                    "authors": "Cassandra Clare",
                                    "title": "Clockwork Princess (The Infernal Devices, #3)",
                                    "Average Ratings": "4.59"
                                },
                                {
                                    "book_id": "30",
                                    "authors": "J.R.R. Tolkien",
                                    "title": "J.R.R. Tolkien 4-Book Boxed Set: The Hobbit and The Lord of the Rings",
                                    "Average Ratings": "4.59"
                                },
                                {
                                    "book_id": "2299110",
                                    "authors": "Sherrilyn Kenyon",
                                    "title": "Acheron (Dark-Hunter #14)",
                                    "Average Ratings": "4.59"
                                },
                                {
                                    "book_id": "119",
                                    "authors": "Gary Russell",
                                    "title": "The Lord of the Rings: The Art of The Fellowship of the Ring",
                                    "Average Ratings": "4.59"
                                },
                                {
                                    "book_id": "71252",
                                    "authors": "Neil Gaiman, Marc Hempel, Richard Case, D'Israeli, Teddy Kristiansen, Glyn Dillon, Charles Vess, Dean Ormston, Kevin Nowlan, Todd Klein, Frank McConnell",
                                    "title": "The Kindly Ones (The Sandman #9)",
                                    "Average Ratings": "4.59"
                                },
                                {
                                    "book_id": "349254",
                                    "authors": "Jude Fisher",
                                    "title": "The Lord of the Rings: The Return of the King: Visual Companion",
                                    "Average Ratings": "4.59"
                                },
                                {
                                    "book_id": "9832370",
                                    "authors": "BookRags",
                                    "title": "BookRags Summary:  A Storm of Swords",
                                    "Average Ratings": "4.59"
                                },
                                {
                                    "book_id": "11106458",
                                    "authors": "Cassandra Clare",
                                    "title": "The Mortal Instruments (The Mortal Instruments #1-4)",
                                    "Average Ratings": "4.59"
                                },
                                {
                                    "book_id": "14367051",
                                    "authors": "Cassandra Clare",
                                    "title": "City of Bones / City of Ashes / City of Glass / City of Fallen Angels / City of Lost Souls (The Mortal Instruments, #1-5)",
                                    "Average Ratings": "4.59"
                                },
                                {
                                    "book_id": "28260587",
                                    "authors": "Sarah J. Maas",
                                    "title": "Empire of Storms (Throne of Glass, #5)",
                                    "Average Ratings": "4.58"
                                },
                                {
                                    "book_id": "3165162",
                                    "authors": "Rick Riordan",
                                    "title": "Percy Jackson and the Olympians (Percy Jackson and the Olympians, #1-3)",
                                    "Average Ratings": "4.58"
                                },
                                {
                                    "book_id": "20342617",
                                    "authors": "Bryan Stevenson",
                                    "title": "Just Mercy: A Story of Justice and Redemption",
                                    "Average Ratings": "4.58"
                                },
                                {
                                    "book_id": "17961",
                                    "authors": "Jorge Luis Borges, Andrew Hurley",
                                    "title": "Collected Fictions",
                                    "Average Ratings": "4.58"
                                },
                                {
                                    "book_id": "4808763",
                                    "authors": "Isaac Asimov, Bob E. Flick, Jim Gallant",
                                    "title": "The Last Question",
                                    "Average Ratings": "4.58"
                                },
                                {
                                    "book_id": "15767586",
                                    "authors": "Sherrilyn Kenyon",
                                    "title": "Styxx (Dark-Hunter, #22)",
                                    "Average Ratings": "4.58"
                                },
                                {
                                    "book_id": "892295",
                                    "authors": "Arthur Conan Doyle, William S. Baring-Gould",
                                    "title": "The Annotated Sherlock Holmes: The Four Novels and the Fifty-Six Short Stories Complete (2 Volume Set)",
                                    "Average Ratings": "4.58"
                                },
                                {
                                    "book_id": "1215032",
                                    "authors": "Patrick Rothfuss",
                                    "title": "The Wise Man's Fear (The Kingkiller Chronicle, #2)",
                                    "Average Ratings": "4.57"
                                },
                                {
                                    "book_id": "6485421",
                                    "authors": "Cassandra Clare",
                                    "title": "The Mortal Instruments Boxed Set: City of Bones; City of Ashes; City of Glass (The Mortal Instruments, #1-3)",
                                    "Average Ratings": "4.57"
                                },
                                {
                                    "book_id": "17131869",
                                    "authors": "Brian K. Vaughan, Fiona Staples",
                                    "title": "Saga, Vol. 2 (Saga, #2)",
                                    "Average Ratings": "4.57"
                                },
                                {
                                    "book_id": "8718952",
                                    "authors": "Richelle Mead",
                                    "title": "Vampire Academy Box Set (Vampire Academy, #1-4)",
                                    "Average Ratings": "4.57"
                                },
                                {
                                    "book_id": "4634266",
                                    "authors": "Masashi Kishimoto",
                                    "title": "NARUTO -ナルト- 巻ノ四十三",
                                    "Average Ratings": "4.57"
                                },
                                {
                                    "book_id": "6443349",
                                    "authors": "Rick Riordan, Tk",
                                    "title": "Percy Jackson and the Olympians Boxed Set (Percy Jackson and the Olympians, #1-5)",
                                    "Average Ratings": "4.57"
                                },
                                {
                                    "book_id": "545425",
                                    "authors": "Safiy al-Rahman al-Mubarakfuri",
                                    "title": "الرحيق المختوم",
                                    "Average Ratings": "4.57"
                                },
                                {
                                    "book_id": "17333174",
                                    "authors": "Ilona Andrews",
                                    "title": "Magic Binds (Kate Daniels, #9)",
                                    "Average Ratings": "4.57"
                                },
                                {
                                    "book_id": "147915",
                                    "authors": "George R.R. Martin",
                                    "title": "A Storm of Swords: Blood and Gold (A Song of Ice and Fire, #3: Part 2 of 2)",
                                    "Average Ratings": "4.56"
                                },
                                {
                                    "book_id": "19358975",
                                    "authors": "Brian K. Vaughan, Fiona Staples",
                                    "title": "Saga, Vol. 3 (Saga, #3)",
                                    "Average Ratings": "4.56"
                                },
                                {
                                    "book_id": "10785687",
                                    "authors": "Bob McCabe",
                                    "title": "Harry Potter Page to Screen: The Complete Filmmaking Journey",
                                    "Average Ratings": "4.56"
                                },
                                {
                                    "book_id": "17880714",
                                    "authors": "K. Bromberg",
                                    "title": "Crashed (Driven, #3)",
                                    "Average Ratings": "4.56"
                                },
                                {
                                    "book_id": "1317181",
                                    "authors": "J.K. Rowling",
                                    "title": "Harry Potter and the Order of the Phoenix (Harry Potter, #5, Part 1)",
                                    "Average Ratings": "4.56"
                                },
                                {
                                    "book_id": "15743078",
                                    "authors": "Veronica Roth",
                                    "title": "The Divergent Series 2-Book Collection (Divergent, #1-2)",
                                    "Average Ratings": "4.56"
                                },
                                {
                                    "book_id": "29236299",
                                    "authors": "Amie Kaufman, Jay Kristoff, Marie Lu",
                                    "title": "Gemina (The Illuminae Files, #2)",
                                    "Average Ratings": "4.56"
                                },
                                {
                                    "book_id": "186074",
                                    "authors": "Patrick Rothfuss",
                                    "title": "The Name of the Wind (The Kingkiller Chronicle, #1)",
                                    "Average Ratings": "4.55"
                                },
                                {
                                    "book_id": "19486421",
                                    "authors": "Jim Butcher",
                                    "title": "Skin Game (The Dresden Files, #15)",
                                    "Average Ratings": "4.55"
                                },
                                {
                                    "book_id": "6604209",
                                    "authors": "Brandon Sanderson",
                                    "title": "Mistborn Trilogy Boxed Set (Mistborn, #1-3)",
                                    "Average Ratings": "4.55"
                                },
                                {
                                    "book_id": "25105",
                                    "authors": "Neil Gaiman, Jill Thompson, Vince Locke, Peter Straub",
                                    "title": "Brief Lives (The Sandman #7)",
                                    "Average Ratings": "4.55"
                                },
                                {
                                    "book_id": "8346300",
                                    "authors": "Andrew Williamson, Andrew Williamson",
                                    "title": "Harry Potter: A Pop-Up Book: Based on the Film Phenomenon",
                                    "Average Ratings": "4.55"
                                },
                                {
                                    "book_id": "14905",
                                    "authors": "Jane Austen",
                                    "title": "The Complete Novels",
                                    "Average Ratings": "4.55"
                                },
                                {
                                    "book_id": "13184992",
                                    "authors": "Kristen Ashley",
                                    "title": "Rock Chick Regret (Rock Chick, #7)",
                                    "Average Ratings": "4.55"
                                },
                                {
                                    "book_id": "71823",
                                    "authors": "Stephen King",
                                    "title": "The Green Mile, Part 6: Coffey on the Mile",
                                    "Average Ratings": "4.55"
                                },
                                {
                                    "book_id": "1",
                                    "authors": "J.K. Rowling, Mary GrandPré",
                                    "title": "Harry Potter and the Half-Blood Prince (Harry Potter, #6)",
                                    "Average Ratings": "4.54"
                                },
                                {
                                    "book_id": "62291",
                                    "authors": "George R.R. Martin",
                                    "title": "A Storm of Swords (A Song of Ice and Fire, #3)",
                                    "Average Ratings": "4.54"
                                },
                                {
                                    "book_id": "21853621",
                                    "authors": "Kristin Hannah",
                                    "title": "The Nightingale",
                                    "Average Ratings": "4.54"
                                },
                                {
                                    "book_id": "12127810",
                                    "authors": "Rick Riordan",
                                    "title": "The House of Hades (The Heroes of Olympus, #4)",
                                    "Average Ratings": "4.54"
                                },
                                {
                                    "book_id": "6585201",
                                    "authors": "Jim Butcher",
                                    "title": "Changes (The Dresden Files, #12)",
                                    "Average Ratings": "4.54"
                                },
                                {
                                    "book_id": "381421",
                                    "authors": "Sarah  Young",
                                    "title": "Jesus Calling: Enjoying Peace in His Presence",
                                    "Average Ratings": "4.54"
                                },
                                {
                                    "book_id": "25101",
                                    "authors": "Neil Gaiman, Matt Wagner, George Pratt, Dick Giordano, Kelley Jones, P. Craig Russell, Mike Dringenberg, Malcolm Jones III, Todd Klein, Harlan Ellison",
                                    "title": "Season of Mists (The Sandman #4)",
                                    "Average Ratings": "4.54"
                                },
                                {
                                    "book_id": "89959",
                                    "authors": "Founding Fathers",
                                    "title": "The Constitution of the United States of America",
                                    "Average Ratings": "4.54"
                                },
                                {
                                    "book_id": "23766634",
                                    "authors": "Sarah J. Maas",
                                    "title": "A Court of Wings and Ruin (A Court of Thorns and Roses, #3)",
                                    "Average Ratings": "4.54"
                                },
                                {
                                    "book_id": "20706320",
                                    "authors": "Chris Colfer, Brandon Dorman",
                                    "title": "A Grimm Warning (The Land of Stories, #3)",
                                    "Average Ratings": "4.54"
                                },
                                {
                                    "book_id": "8163161",
                                    "authors": "Bisco Hatori",
                                    "title": "Ouran High School Host Club, Vol. 15 (Ouran High School Host Club, #15)",
                                    "Average Ratings": "4.54"
                                },
                                {
                                    "book_id": "5",
                                    "authors": "J.K. Rowling, Mary GrandPré, Rufus Beck",
                                    "title": "Harry Potter and the Prisoner of Azkaban (Harry Potter, #3)",
                                    "Average Ratings": "4.53"
                                },
                                {
                                    "book_id": "6",
                                    "authors": "J.K. Rowling, Mary GrandPré",
                                    "title": "Harry Potter and the Goblet of Fire (Harry Potter, #4)",
                                    "Average Ratings": "4.53"
                                },
                                {
                                    "book_id": "20613470",
                                    "authors": "Sarah J. Maas",
                                    "title": "Heir of Fire (Throne of Glass, #3)",
                                    "Average Ratings": "4.53"
                                },
                                {
                                    "book_id": "15195",
                                    "authors": "Art Spiegelman",
                                    "title": "The Complete Maus (Maus, #1-2)",
                                    "Average Ratings": "4.53"
                                },
                                {
                                    "book_id": "25104",
                                    "authors": "Neil Gaiman, Michael Zulli, Jon J. Muth, Charles Vess, Mikal Gilmore",
                                    "title": "The Wake (The Sandman #10)",
                                    "Average Ratings": "4.53"
                                }
                            ]
                        },
                        "text/html": [
                            "<table>",
                            "<tr><th>book_id</th><th>authors</th><th>title</th><th>Average Ratings</th></tr>",
                            "<tr><td>24812</td><td>Bill Watterson</td><td>The Complete Calvin and Hobbes</td><td>4.82</td></tr>",
                            "<tr><td>17332218</td><td>Brandon Sanderson</td><td>Words of Radiance (The Stormlight Archive, #2)</td><td>4.77</td></tr>",
                            "<tr><td>8</td><td>J.K. Rowling, Mary GrandPré</td><td>Harry Potter Boxed Set, Books 1-5 (Harry Potter, #1-5)</td><td>4.77</td></tr>",
                            "<tr><td>5031805</td><td>Anonymous, Lane T. Dennis, Wayne A. Grudem</td><td>ESV Study Bible</td><td>4.76</td></tr>",
                            "<tr><td>95602</td><td>Francine Rivers</td><td>Mark of the Lion Trilogy</td><td>4.76</td></tr>",
                            "<tr><td>24814</td><td>Bill Watterson</td><td>It's a Magical World: A Calvin and Hobbes Collection</td><td>4.75</td></tr>",
                            "<tr><td>862041</td><td>J.K. Rowling</td><td>Harry Potter Boxset (Harry Potter, #1-7)</td><td>4.74</td></tr>",
                            "<tr><td>70489</td><td>Bill Watterson</td><td>There's Treasure Everywhere: A Calvin and Hobbes Collection</td><td>4.74</td></tr>",
                            "<tr><td>10</td><td>J.K. Rowling</td><td>Harry Potter Collection (Harry Potter, #1-6)</td><td>4.73</td></tr>",
                            "<tr><td>59715</td><td>Bill Watterson</td><td>The Authoritative Calvin and Hobbes: A Calvin and Hobbes Treasury</td><td>4.73</td></tr>",
                            "<tr><td>24815</td><td>Bill Watterson</td><td>The Indispensable Calvin and Hobbes</td><td>4.73</td></tr>",
                            "<tr><td>17927395</td><td>Sarah J. Maas</td><td>A Court of Mist and Fury (A Court of Thorns and Roses, #2)</td><td>4.72</td></tr>",
                            "<tr><td>70487</td><td>Bill Watterson</td><td>Attack of the Deranged Mutant Killer Monster Snow Goons</td><td>4.72</td></tr>",
                            "<tr><td>24816</td><td>Bill Watterson</td><td>Homicidal Psycho Jungle Cat: A Calvin and Hobbes Collection</td><td>4.71</td></tr>",
                            "<tr><td>121792</td><td>Bill Watterson</td><td>The Revenge of the Baby-Sat</td><td>4.71</td></tr>",
                            "<tr><td>2350129</td><td>The Church of Jesus Christ of Latter-day Saints</td><td>Preach My Gospel: A Guide To Missionary Service</td><td>4.71</td></tr>",
                            "<tr><td>24818</td><td>Bill Watterson</td><td>The Days Are Just Packed: A Calvin and Hobbes Collection</td><td>4.68</td></tr>",
                            "<tr><td>265205</td><td>Anonymous, Ronald A. Beers, Ronald A. Beers</td><td>Life Application Study Bible: NIV</td><td>4.67</td></tr>",
                            "<tr><td>9329354</td><td>Brandon Sanderson</td><td>The Way of Kings, Part 1 (The Stormlight Archive #1.1)</td><td>4.67</td></tr>",
                            "<tr><td>99298</td><td>J.K. Rowling, Mary GrandPré</td><td>The Harry Potter Collection 1-4 (Harry Potter, #1-4)</td><td>4.66</td></tr>",
                            "<tr><td>5883777</td><td>Anonymous</td><td>The Holy Bible: English Standard Version</td><td>4.66</td></tr>",
                            "<tr><td>24494</td><td>Bill Watterson</td><td>The Calvin and Hobbes Lazy Sunday Book</td><td>4.66</td></tr>",
                            "<tr><td>43070</td><td>Bill Watterson</td><td>The Essential Calvin and Hobbes: A Calvin and Hobbes Treasury</td><td>4.65</td></tr>",
                            "<tr><td>18337259</td><td>Daniel Abraham, George R.R. Martin, Tommy Patterson</td><td>A Game of Thrones: Comic Book, Issue 1</td><td>4.65</td></tr>",
                            "<tr><td>23753</td><td>Neil Gaiman, Mike Dringenberg, Chris Bachalo, Michael Zulli, Kelly Jones, Charles Vess, Colleen Doran, Malcolm Jones III, Steve Parkhouse, Daniel Vozzo, Lee Loughridge, Steve Oliff, Todd Klein, Dave McKean, Sam Kieth</td><td>The Absolute Sandman, Volume One</td><td>4.65</td></tr>",
                            "<tr><td>7235533</td><td>Brandon Sanderson</td><td>The Way of Kings (The Stormlight Archive, #1)</td><td>4.64</td></tr>",
                            "<tr><td>24813</td><td>Bill Watterson</td><td>The Calvin and Hobbes Tenth Anniversary Book</td><td>4.63</td></tr>",
                            "<tr><td>9814682</td><td>George R.R. Martin</td><td>A Song of Ice and Fire (A Song of Ice and Fire, #1-4)</td><td>4.63</td></tr>",
                            "<tr><td>12177850</td><td>George R.R. Martin</td><td>A Song of Ice and Fire (A Song of Ice and Fire, #1-5)</td><td>4.63</td></tr>",
                            "<tr><td>481749</td><td>James E. Talmage</td><td>Jesus the Christ</td><td>4.63</td></tr>",
                            "<tr><td>46292</td><td>Hafez</td><td>The Divan</td><td>4.63</td></tr>",
                            "<tr><td>6801614</td><td>Eiichirō Oda</td><td>One Piece, Volume 38: Rocketman!! (One Piece, #38)</td><td>4.63</td></tr>",
                            "<tr><td>22299763</td><td>Leigh Bardugo</td><td>Crooked Kingdom (Six of Crows, #2)</td><td>4.62</td></tr>",
                            "<tr><td>32075671</td><td>Angie Thomas</td><td>The Hate U Give</td><td>4.62</td></tr>",
                            "<tr><td>136251</td><td>J.K. Rowling, Mary GrandPré</td><td>Harry Potter and the Deathly Hallows (Harry Potter, #7)</td><td>4.61</td></tr>",
                            "<tr><td>77727</td><td>Bill Watterson, G.B. Trudeau</td><td>Calvin and Hobbes</td><td>4.61</td></tr>",
                            "<tr><td>280111</td><td>Anonymous</td><td>Holy Bible: New International Version</td><td>4.61</td></tr>",
                            "<tr><td>2223324</td><td>John   Williams</td><td>Harry Potter and the Chamber of Secrets: Sheet Music for Flute with C.D</td><td>4.61</td></tr>",
                            "<tr><td>6339989</td><td>Richelle Mead</td><td>Vampire Academy Collection (Vampire Academy, #1-3)</td><td>4.61</td></tr>",
                            "<tr><td>596259</td><td>Gordon B. Hinckley</td><td>Standing for Something: 10 Neglected Virtues That Will Heal Our Hearts and Homes</td><td>4.61</td></tr>",
                            "<tr><td>47697</td><td>Alisa Kwitney, Neil Gaiman</td><td>The Sandman: King of Dreams</td><td>4.61</td></tr>",
                            "<tr><td>18006496</td><td>Sarah J. Maas</td><td>Queen of Shadows (Throne of Glass, #4)</td><td>4.6</td></tr>",
                            "<tr><td>95617</td><td>Francine Rivers, Richard Ferrone</td><td>A Voice in the Wind (Mark of the Lion, #1)</td><td>4.6</td></tr>",
                            "<tr><td>46601</td><td>Francine Rivers</td><td>An Echo in the Darkness (Mark of the Lion, #2)</td><td>4.6</td></tr>",
                            "<tr><td>7025086</td><td>Christopher Yost, Pasqual Ferry, Orson Scott Card</td><td>Ender's Game, Volume 2: Command School</td><td>4.6</td></tr>",
                            "<tr><td>18335634</td><td>Cassandra Clare</td><td>Clockwork Princess (The Infernal Devices, #3)</td><td>4.59</td></tr>",
                            "<tr><td>30</td><td>J.R.R. Tolkien</td><td>J.R.R. Tolkien 4-Book Boxed Set: The Hobbit and The Lord of the Rings</td><td>4.59</td></tr>",
                            "<tr><td>2299110</td><td>Sherrilyn Kenyon</td><td>Acheron (Dark-Hunter #14)</td><td>4.59</td></tr>",
                            "<tr><td>119</td><td>Gary Russell</td><td>The Lord of the Rings: The Art of The Fellowship of the Ring</td><td>4.59</td></tr>",
                            "<tr><td>71252</td><td>Neil Gaiman, Marc Hempel, Richard Case, D'Israeli, Teddy Kristiansen, Glyn Dillon, Charles Vess, Dean Ormston, Kevin Nowlan, Todd Klein, Frank McConnell</td><td>The Kindly Ones (The Sandman #9)</td><td>4.59</td></tr>",
                            "<tr><td>349254</td><td>Jude Fisher</td><td>The Lord of the Rings: The Return of the King: Visual Companion</td><td>4.59</td></tr>",
                            "<tr><td>9832370</td><td>BookRags</td><td>BookRags Summary:  A Storm of Swords</td><td>4.59</td></tr>",
                            "<tr><td>11106458</td><td>Cassandra Clare</td><td>The Mortal Instruments (The Mortal Instruments #1-4)</td><td>4.59</td></tr>",
                            "<tr><td>14367051</td><td>Cassandra Clare</td><td>City of Bones / City of Ashes / City of Glass / City of Fallen Angels / City of Lost Souls (The Mortal Instruments, #1-5)</td><td>4.59</td></tr>",
                            "<tr><td>28260587</td><td>Sarah J. Maas</td><td>Empire of Storms (Throne of Glass, #5)</td><td>4.58</td></tr>",
                            "<tr><td>3165162</td><td>Rick Riordan</td><td>Percy Jackson and the Olympians (Percy Jackson and the Olympians, #1-3)</td><td>4.58</td></tr>",
                            "<tr><td>20342617</td><td>Bryan Stevenson</td><td>Just Mercy: A Story of Justice and Redemption</td><td>4.58</td></tr>",
                            "<tr><td>17961</td><td>Jorge Luis Borges, Andrew Hurley</td><td>Collected Fictions</td><td>4.58</td></tr>",
                            "<tr><td>4808763</td><td>Isaac Asimov, Bob E. Flick, Jim Gallant</td><td>The Last Question</td><td>4.58</td></tr>",
                            "<tr><td>15767586</td><td>Sherrilyn Kenyon</td><td>Styxx (Dark-Hunter, #22)</td><td>4.58</td></tr>",
                            "<tr><td>892295</td><td>Arthur Conan Doyle, William S. Baring-Gould</td><td>The Annotated Sherlock Holmes: The Four Novels and the Fifty-Six Short Stories Complete (2 Volume Set)</td><td>4.58</td></tr>",
                            "<tr><td>1215032</td><td>Patrick Rothfuss</td><td>The Wise Man's Fear (The Kingkiller Chronicle, #2)</td><td>4.57</td></tr>",
                            "<tr><td>6485421</td><td>Cassandra Clare</td><td>The Mortal Instruments Boxed Set: City of Bones; City of Ashes; City of Glass (The Mortal Instruments, #1-3)</td><td>4.57</td></tr>",
                            "<tr><td>17131869</td><td>Brian K. Vaughan, Fiona Staples</td><td>Saga, Vol. 2 (Saga, #2)</td><td>4.57</td></tr>",
                            "<tr><td>8718952</td><td>Richelle Mead</td><td>Vampire Academy Box Set (Vampire Academy, #1-4)</td><td>4.57</td></tr>",
                            "<tr><td>4634266</td><td>Masashi Kishimoto</td><td>NARUTO -ナルト- 巻ノ四十三</td><td>4.57</td></tr>",
                            "<tr><td>6443349</td><td>Rick Riordan, Tk</td><td>Percy Jackson and the Olympians Boxed Set (Percy Jackson and the Olympians, #1-5)</td><td>4.57</td></tr>",
                            "<tr><td>545425</td><td>Safiy al-Rahman al-Mubarakfuri</td><td>الرحيق المختوم</td><td>4.57</td></tr>",
                            "<tr><td>17333174</td><td>Ilona Andrews</td><td>Magic Binds (Kate Daniels, #9)</td><td>4.57</td></tr>",
                            "<tr><td>147915</td><td>George R.R. Martin</td><td>A Storm of Swords: Blood and Gold (A Song of Ice and Fire, #3: Part 2 of 2)</td><td>4.56</td></tr>",
                            "<tr><td>19358975</td><td>Brian K. Vaughan, Fiona Staples</td><td>Saga, Vol. 3 (Saga, #3)</td><td>4.56</td></tr>",
                            "<tr><td>10785687</td><td>Bob McCabe</td><td>Harry Potter Page to Screen: The Complete Filmmaking Journey</td><td>4.56</td></tr>",
                            "<tr><td>17880714</td><td>K. Bromberg</td><td>Crashed (Driven, #3)</td><td>4.56</td></tr>",
                            "<tr><td>1317181</td><td>J.K. Rowling</td><td>Harry Potter and the Order of the Phoenix (Harry Potter, #5, Part 1)</td><td>4.56</td></tr>",
                            "<tr><td>15743078</td><td>Veronica Roth</td><td>The Divergent Series 2-Book Collection (Divergent, #1-2)</td><td>4.56</td></tr>",
                            "<tr><td>29236299</td><td>Amie Kaufman, Jay Kristoff, Marie Lu</td><td>Gemina (The Illuminae Files, #2)</td><td>4.56</td></tr>",
                            "<tr><td>186074</td><td>Patrick Rothfuss</td><td>The Name of the Wind (The Kingkiller Chronicle, #1)</td><td>4.55</td></tr>",
                            "<tr><td>19486421</td><td>Jim Butcher</td><td>Skin Game (The Dresden Files, #15)</td><td>4.55</td></tr>",
                            "<tr><td>6604209</td><td>Brandon Sanderson</td><td>Mistborn Trilogy Boxed Set (Mistborn, #1-3)</td><td>4.55</td></tr>",
                            "<tr><td>25105</td><td>Neil Gaiman, Jill Thompson, Vince Locke, Peter Straub</td><td>Brief Lives (The Sandman #7)</td><td>4.55</td></tr>",
                            "<tr><td>8346300</td><td>Andrew Williamson, Andrew Williamson</td><td>Harry Potter: A Pop-Up Book: Based on the Film Phenomenon</td><td>4.55</td></tr>",
                            "<tr><td>14905</td><td>Jane Austen</td><td>The Complete Novels</td><td>4.55</td></tr>",
                            "<tr><td>13184992</td><td>Kristen Ashley</td><td>Rock Chick Regret (Rock Chick, #7)</td><td>4.55</td></tr>",
                            "<tr><td>71823</td><td>Stephen King</td><td>The Green Mile, Part 6: Coffey on the Mile</td><td>4.55</td></tr>",
                            "<tr><td>1</td><td>J.K. Rowling, Mary GrandPré</td><td>Harry Potter and the Half-Blood Prince (Harry Potter, #6)</td><td>4.54</td></tr>",
                            "<tr><td>62291</td><td>George R.R. Martin</td><td>A Storm of Swords (A Song of Ice and Fire, #3)</td><td>4.54</td></tr>",
                            "<tr><td>21853621</td><td>Kristin Hannah</td><td>The Nightingale</td><td>4.54</td></tr>",
                            "<tr><td>12127810</td><td>Rick Riordan</td><td>The House of Hades (The Heroes of Olympus, #4)</td><td>4.54</td></tr>",
                            "<tr><td>6585201</td><td>Jim Butcher</td><td>Changes (The Dresden Files, #12)</td><td>4.54</td></tr>",
                            "<tr><td>381421</td><td>Sarah  Young</td><td>Jesus Calling: Enjoying Peace in His Presence</td><td>4.54</td></tr>",
                            "<tr><td>25101</td><td>Neil Gaiman, Matt Wagner, George Pratt, Dick Giordano, Kelley Jones, P. Craig Russell, Mike Dringenberg, Malcolm Jones III, Todd Klein, Harlan Ellison</td><td>Season of Mists (The Sandman #4)</td><td>4.54</td></tr>",
                            "<tr><td>89959</td><td>Founding Fathers</td><td>The Constitution of the United States of America</td><td>4.54</td></tr>",
                            "<tr><td>23766634</td><td>Sarah J. Maas</td><td>A Court of Wings and Ruin (A Court of Thorns and Roses, #3)</td><td>4.54</td></tr>",
                            "<tr><td>20706320</td><td>Chris Colfer, Brandon Dorman</td><td>A Grimm Warning (The Land of Stories, #3)</td><td>4.54</td></tr>",
                            "<tr><td>8163161</td><td>Bisco Hatori</td><td>Ouran High School Host Club, Vol. 15 (Ouran High School Host Club, #15)</td><td>4.54</td></tr>",
                            "<tr><td>5</td><td>J.K. Rowling, Mary GrandPré, Rufus Beck</td><td>Harry Potter and the Prisoner of Azkaban (Harry Potter, #3)</td><td>4.53</td></tr>",
                            "<tr><td>6</td><td>J.K. Rowling, Mary GrandPré</td><td>Harry Potter and the Goblet of Fire (Harry Potter, #4)</td><td>4.53</td></tr>",
                            "<tr><td>20613470</td><td>Sarah J. Maas</td><td>Heir of Fire (Throne of Glass, #3)</td><td>4.53</td></tr>",
                            "<tr><td>15195</td><td>Art Spiegelman</td><td>The Complete Maus (Maus, #1-2)</td><td>4.53</td></tr>",
                            "<tr><td>25104</td><td>Neil Gaiman, Michael Zulli, Jon J. Muth, Charles Vess, Mikal Gilmore</td><td>The Wake (The Sandman #10)</td><td>4.53</td></tr>",
                            "</table>"
                        ]
                    }
                }
            ],
            "execution_count": 3
        },
        {
            "cell_type": "markdown",
            "source": [
                "Question 2: Write a query to find the least popular book.\n",
                "\n",
                "One Night at the Call Center by Chetan Bhagat"
            ],
            "metadata": {
                "azdata_cell_guid": "777429b8-8622-489d-9c49-e2acecd7f17e"
            },
            "attachments": {}
        },
        {
            "cell_type": "code",
            "source": [
                "-- return least popular book\n",
                "SELECT TOP 100 book_id, authors, title, average_rating AS \"Average Ratings\"\n",
                "FROM BooksDB.dbo.books\n",
                "ORDER BY average_rating "
            ],
            "metadata": {
                "azdata_cell_guid": "c78a1779-db74-470f-a60a-7c72a43d774b",
                "language": "sql"
            },
            "outputs": [
                {
                    "output_type": "display_data",
                    "data": {
                        "text/html": "(100 rows affected)"
                    },
                    "metadata": {}
                },
                {
                    "output_type": "display_data",
                    "data": {
                        "text/html": "Total execution time: 00:00:00.086"
                    },
                    "metadata": {}
                },
                {
                    "output_type": "execute_result",
                    "metadata": {},
                    "execution_count": 4,
                    "data": {
                        "application/vnd.dataresource+json": {
                            "schema": {
                                "fields": [
                                    {
                                        "name": "book_id"
                                    },
                                    {
                                        "name": "authors"
                                    },
                                    {
                                        "name": "title"
                                    },
                                    {
                                        "name": "Average Ratings"
                                    }
                                ]
                            },
                            "data": [
                                {
                                    "book_id": "105578",
                                    "authors": "Chetan Bhagat",
                                    "title": "One Night at the Call Center",
                                    "Average Ratings": "2.47"
                                },
                                {
                                    "book_id": "783291",
                                    "authors": "Alice Sebold",
                                    "title": "The Almost Moon",
                                    "Average Ratings": "2.67"
                                },
                                {
                                    "book_id": "8664368",
                                    "authors": "Howard Jacobson",
                                    "title": "The Finkler Question",
                                    "Average Ratings": "2.76"
                                },
                                {
                                    "book_id": "6613",
                                    "authors": "Candace Bushnell",
                                    "title": "Four Blondes",
                                    "Average Ratings": "2.8"
                                },
                                {
                                    "book_id": "24929",
                                    "authors": "Gregory Maguire, Douglas Smith",
                                    "title": "Lost",
                                    "Average Ratings": "2.8"
                                },
                                {
                                    "book_id": "16130307",
                                    "authors": "Lauren Weisberger",
                                    "title": "Revenge Wears Prada: The Devil Returns (The Devil Wears Prada, #2)",
                                    "Average Ratings": "2.84"
                                },
                                {
                                    "book_id": "23503361",
                                    "authors": "Julia Pierpont",
                                    "title": "Among the Ten Thousand Things",
                                    "Average Ratings": "2.84"
                                },
                                {
                                    "book_id": "6855294",
                                    "authors": "Chuck Palahniuk",
                                    "title": "Tell-All",
                                    "Average Ratings": "2.84"
                                },
                                {
                                    "book_id": "3648",
                                    "authors": "Claire Messud",
                                    "title": "The Emperor's Children",
                                    "Average Ratings": "2.93"
                                },
                                {
                                    "book_id": "12878667",
                                    "authors": "Mark Haddon",
                                    "title": "The Red House",
                                    "Average Ratings": "2.93"
                                },
                                {
                                    "book_id": "4601396",
                                    "authors": "Chuck Palahniuk",
                                    "title": "Pygmy",
                                    "Average Ratings": "2.96"
                                },
                                {
                                    "book_id": "3320520",
                                    "authors": "Chetan Bhagat",
                                    "title": "The 3 Mistakes of My Life",
                                    "Average Ratings": "2.97"
                                },
                                {
                                    "book_id": "19523454",
                                    "authors": "Chuck Palahniuk",
                                    "title": "Beautiful You",
                                    "Average Ratings": "2.98"
                                },
                                {
                                    "book_id": "5557442",
                                    "authors": "يوسف زيدان",
                                    "title": "ظل الأفعى",
                                    "Average Ratings": "3"
                                },
                                {
                                    "book_id": "20819682",
                                    "authors": "Paulo Coelho",
                                    "title": "Adultery",
                                    "Average Ratings": "3.01"
                                },
                                {
                                    "book_id": "12712435",
                                    "authors": "Maggie Shipstead",
                                    "title": "Seating Arrangements",
                                    "Average Ratings": "3.02"
                                },
                                {
                                    "book_id": "998133",
                                    "authors": "Anne Enright",
                                    "title": "The Gathering",
                                    "Average Ratings": "3.04"
                                },
                                {
                                    "book_id": "7824768",
                                    "authors": "خالد الباتلي",
                                    "title": "ليتها تقرأ",
                                    "Average Ratings": "3.04"
                                },
                                {
                                    "book_id": "23492673",
                                    "authors": "Wednesday Martin",
                                    "title": "Primates of Park Avenue",
                                    "Average Ratings": "3.05"
                                },
                                {
                                    "book_id": "12615008",
                                    "authors": "Chetan Bhagat",
                                    "title": "Revolution 2020: Love, Corruption, Ambition",
                                    "Average Ratings": "3.07"
                                },
                                {
                                    "book_id": "2152",
                                    "authors": "Karen Joy Fowler",
                                    "title": "The Jane Austen Book Club",
                                    "Average Ratings": "3.07"
                                },
                                {
                                    "book_id": "14963",
                                    "authors": "Anita Shreve",
                                    "title": "A Wedding in December",
                                    "Average Ratings": "3.08"
                                },
                                {
                                    "book_id": "18453074",
                                    "authors": "Joshua Ferris",
                                    "title": "To Rise Again at a Decent Hour",
                                    "Average Ratings": "3.08"
                                },
                                {
                                    "book_id": "15613",
                                    "authors": "Herman Melville",
                                    "title": "Billy Budd, Sailor",
                                    "Average Ratings": "3.09"
                                },
                                {
                                    "book_id": "6976",
                                    "authors": "Sue Monk Kidd",
                                    "title": "The Mermaid Chair",
                                    "Average Ratings": "3.1"
                                },
                                {
                                    "book_id": "13489517",
                                    "authors": "أحمد حلمي",
                                    "title": "28 حرف",
                                    "Average Ratings": "3.1"
                                },
                                {
                                    "book_id": "4530",
                                    "authors": "Helen Fielding",
                                    "title": "Olivia Joules and the Overactive Imagination",
                                    "Average Ratings": "3.1"
                                },
                                {
                                    "book_id": "18465657",
                                    "authors": "Emily Giffin",
                                    "title": "The One & Only",
                                    "Average Ratings": "3.11"
                                },
                                {
                                    "book_id": "10047589",
                                    "authors": "Jennifer Close",
                                    "title": "Girls in White Dresses",
                                    "Average Ratings": "3.12"
                                },
                                {
                                    "book_id": "18656036",
                                    "authors": "Megan Abbott",
                                    "title": "The Fever",
                                    "Average Ratings": "3.12"
                                },
                                {
                                    "book_id": "54270",
                                    "authors": "Adolf Hitler",
                                    "title": "Mein Kampf",
                                    "Average Ratings": "3.13"
                                },
                                {
                                    "book_id": "18295858",
                                    "authors": "Emma Donoghue",
                                    "title": "Frog Music",
                                    "Average Ratings": "3.13"
                                },
                                {
                                    "book_id": "7176578",
                                    "authors": "Yann Martel",
                                    "title": "Beatrice and Virgil",
                                    "Average Ratings": "3.13"
                                },
                                {
                                    "book_id": "18641982",
                                    "authors": "Emma Straub",
                                    "title": "The Vacationers",
                                    "Average Ratings": "3.14"
                                },
                                {
                                    "book_id": "6076387",
                                    "authors": "Lorrie Moore",
                                    "title": "A Gate at the Stairs",
                                    "Average Ratings": "3.14"
                                },
                                {
                                    "book_id": "7519866",
                                    "authors": "Bret Easton Ellis",
                                    "title": "Imperial Bedrooms ",
                                    "Average Ratings": "3.14"
                                },
                                {
                                    "book_id": "13151283",
                                    "authors": "محمد صادق",
                                    "title": "بضع ساعات في يوم ما",
                                    "Average Ratings": "3.14"
                                },
                                {
                                    "book_id": "3710",
                                    "authors": "Zadie Smith",
                                    "title": "The Autograph Man",
                                    "Average Ratings": "3.14"
                                },
                                {
                                    "book_id": "25131600",
                                    "authors": "Chuck Wendig",
                                    "title": "Aftermath (Star Wars: Aftermath, #1)",
                                    "Average Ratings": "3.15"
                                },
                                {
                                    "book_id": "22874559",
                                    "authors": "Chetan Bhagat",
                                    "title": "Half Girlfriend",
                                    "Average Ratings": "3.16"
                                },
                                {
                                    "book_id": "5396496",
                                    "authors": "Christos Tsiolkas",
                                    "title": "The Slap",
                                    "Average Ratings": "3.16"
                                },
                                {
                                    "book_id": "16076787",
                                    "authors": "أحمد خالد توفيق",
                                    "title": "السنجة",
                                    "Average Ratings": "3.16"
                                },
                                {
                                    "book_id": "10209997",
                                    "authors": "Chris Bohjalian",
                                    "title": "The Night Strangers",
                                    "Average Ratings": "3.16"
                                },
                                {
                                    "book_id": "6365221",
                                    "authors": "Rhoda Janzen",
                                    "title": "Mennonite in a Little Black Dress: A Memoir of Going Home",
                                    "Average Ratings": "3.17"
                                },
                                {
                                    "book_id": "1476261",
                                    "authors": "Rajaa Alsanea",
                                    "title": "Girls of Riyadh",
                                    "Average Ratings": "3.17"
                                },
                                {
                                    "book_id": "1840511",
                                    "authors": "Chuck Palahniuk",
                                    "title": "Snuff",
                                    "Average Ratings": "3.18"
                                },
                                {
                                    "book_id": "4268",
                                    "authors": "Nick Hornby",
                                    "title": "How to Be Good",
                                    "Average Ratings": "3.18"
                                },
                                {
                                    "book_id": "12923",
                                    "authors": "Horace Walpole",
                                    "title": "The Castle of Otranto",
                                    "Average Ratings": "3.18"
                                },
                                {
                                    "book_id": "443540",
                                    "authors": "Anita Shreve",
                                    "title": "All He Ever Wanted",
                                    "Average Ratings": "3.18"
                                },
                                {
                                    "book_id": "7048800",
                                    "authors": "Aimee Bender",
                                    "title": "The Particular Sadness of Lemon Cake",
                                    "Average Ratings": "3.19"
                                },
                                {
                                    "book_id": "28449270",
                                    "authors": "Maria Semple",
                                    "title": "Today Will Be Different",
                                    "Average Ratings": "3.19"
                                },
                                {
                                    "book_id": "10914",
                                    "authors": "Jodi Picoult",
                                    "title": "Songs of the Humpback Whale",
                                    "Average Ratings": "3.19"
                                },
                                {
                                    "book_id": "178813",
                                    "authors": "Candace Bushnell",
                                    "title": "Trading Up",
                                    "Average Ratings": "3.2"
                                },
                                {
                                    "book_id": "12888599",
                                    "authors": "Charlotte Rogan",
                                    "title": "The Lifeboat",
                                    "Average Ratings": "3.2"
                                },
                                {
                                    "book_id": "28700",
                                    "authors": "Don DeLillo, محمدصادق رئیسی",
                                    "title": "Falling Man",
                                    "Average Ratings": "3.2"
                                },
                                {
                                    "book_id": "35220",
                                    "authors": "Stephen Crane",
                                    "title": "The Red Badge of Courage",
                                    "Average Ratings": "3.21"
                                },
                                {
                                    "book_id": "12875355",
                                    "authors": "P.D. James",
                                    "title": "Death Comes to Pemberley",
                                    "Average Ratings": "3.21"
                                },
                                {
                                    "book_id": "8584686",
                                    "authors": "Karen Russell",
                                    "title": "Swamplandia!",
                                    "Average Ratings": "3.21"
                                },
                                {
                                    "book_id": "18316089",
                                    "authors": "Amy Bloom",
                                    "title": "Lucky Us",
                                    "Average Ratings": "3.21"
                                },
                                {
                                    "book_id": "7011879",
                                    "authors": "Durjoy Datta, Maanvi Ahuja",
                                    "title": "Of Course I Love You...! Till I Find Someone Better...",
                                    "Average Ratings": "3.21"
                                },
                                {
                                    "book_id": "52367",
                                    "authors": "Frank Miller, Lynn Varley",
                                    "title": "Batman: The Dark Knight Strikes Again (The Dark Knight Saga, #2)",
                                    "Average Ratings": "3.21"
                                },
                                {
                                    "book_id": "15797938",
                                    "authors": "Herman Koch, Sam Garrett",
                                    "title": "The Dinner",
                                    "Average Ratings": "3.22"
                                },
                                {
                                    "book_id": "18431",
                                    "authors": "Ian Caldwell, Dustin Thomason",
                                    "title": "The Rule of Four",
                                    "Average Ratings": "3.22"
                                },
                                {
                                    "book_id": "18774020",
                                    "authors": "Edan Lepucki",
                                    "title": "California",
                                    "Average Ratings": "3.22"
                                },
                                {
                                    "book_id": "28703",
                                    "authors": "Don DeLillo",
                                    "title": "Cosmopolis",
                                    "Average Ratings": "3.22"
                                },
                                {
                                    "book_id": "4660",
                                    "authors": "John Irving",
                                    "title": "The 158-Pound Marriage",
                                    "Average Ratings": "3.22"
                                },
                                {
                                    "book_id": "6202342",
                                    "authors": "Audrey Niffenegger",
                                    "title": "Her Fearful Symmetry",
                                    "Average Ratings": "3.23"
                                },
                                {
                                    "book_id": "7140754",
                                    "authors": "Ian McEwan",
                                    "title": "Solar",
                                    "Average Ratings": "3.23"
                                },
                                {
                                    "book_id": "12982393",
                                    "authors": "Megan Abbott",
                                    "title": "Dare Me",
                                    "Average Ratings": "3.23"
                                },
                                {
                                    "book_id": "1402668",
                                    "authors": "Madeleine Wickham",
                                    "title": "The Gatecrasher",
                                    "Average Ratings": "3.24"
                                },
                                {
                                    "book_id": "8318666",
                                    "authors": "Jean M. Auel",
                                    "title": "The Land of Painted Caves (Earth's Children, #6)",
                                    "Average Ratings": "3.24"
                                },
                                {
                                    "book_id": "21064599",
                                    "authors": "Sophie Kinsella",
                                    "title": "Shopaholic to the Stars (Shopaholic, #7)",
                                    "Average Ratings": "3.24"
                                },
                                {
                                    "book_id": "194086",
                                    "authors": "Madeleine Wickham",
                                    "title": "Sleeping Arrangements",
                                    "Average Ratings": "3.24"
                                },
                                {
                                    "book_id": "347143",
                                    "authors": "Tom Perrotta",
                                    "title": "The Abstinence Teacher",
                                    "Average Ratings": "3.24"
                                },
                                {
                                    "book_id": "17412188",
                                    "authors": "S.J. Watson",
                                    "title": "Second Life",
                                    "Average Ratings": "3.24"
                                },
                                {
                                    "book_id": "18090150",
                                    "authors": "Isabel Allende, Oliver Brock, Frank Wynne",
                                    "title": "Ripper",
                                    "Average Ratings": "3.24"
                                },
                                {
                                    "book_id": "22725443",
                                    "authors": "Jill Alexander Essbaum",
                                    "title": "Hausfrau",
                                    "Average Ratings": "3.24"
                                },
                                {
                                    "book_id": "4929705",
                                    "authors": "Robert Goolrick",
                                    "title": "A Reliable Wife",
                                    "Average Ratings": "3.25"
                                },
                                {
                                    "book_id": "207034",
                                    "authors": "Jeanne DuPrau",
                                    "title": "The Prophet of Yonwood (Book of Ember, #3)",
                                    "Average Ratings": "3.25"
                                },
                                {
                                    "book_id": "10365343",
                                    "authors": "Colson Whitehead",
                                    "title": "Zone One",
                                    "Average Ratings": "3.25"
                                },
                                {
                                    "book_id": "381704",
                                    "authors": "Plum Sykes",
                                    "title": "Bergdorf Blondes",
                                    "Average Ratings": "3.26"
                                },
                                {
                                    "book_id": "16131193",
                                    "authors": "Lily Koppel",
                                    "title": "The Astronaut Wives Club",
                                    "Average Ratings": "3.26"
                                },
                                {
                                    "book_id": "31333",
                                    "authors": "Anne Rice",
                                    "title": "Violin",
                                    "Average Ratings": "3.26"
                                },
                                {
                                    "book_id": "15858",
                                    "authors": "Gregory Maguire",
                                    "title": "Mirror Mirror",
                                    "Average Ratings": "3.27"
                                },
                                {
                                    "book_id": "411527",
                                    "authors": "Nick Hornby",
                                    "title": "Slam",
                                    "Average Ratings": "3.27"
                                },
                                {
                                    "book_id": "13497818",
                                    "authors": "J.K. Rowling",
                                    "title": "The Casual Vacancy",
                                    "Average Ratings": "3.28"
                                },
                                {
                                    "book_id": "5899779",
                                    "authors": "Seth Grahame-Smith, Jane Austen",
                                    "title": "Pride and Prejudice and Zombies (Pride and Prejudice and Zombies, #1)",
                                    "Average Ratings": "3.28"
                                },
                                {
                                    "book_id": "26582",
                                    "authors": "A.N. Roquelaure, Anne Rice",
                                    "title": "The Claiming of Sleeping Beauty (Sleeping Beauty, #1)",
                                    "Average Ratings": "3.28"
                                },
                                {
                                    "book_id": "26192646",
                                    "authors": "Stephanie Danler",
                                    "title": "Sweetbitter",
                                    "Average Ratings": "3.28"
                                },
                                {
                                    "book_id": "10574",
                                    "authors": "Stephen King",
                                    "title": "The Colorado Kid (Hard Case Crime #13)",
                                    "Average Ratings": "3.28"
                                },
                                {
                                    "book_id": "16188",
                                    "authors": "Philippa Gregory",
                                    "title": "Wideacre  (The Wideacre Trilogy, #1)",
                                    "Average Ratings": "3.28"
                                },
                                {
                                    "book_id": "392217",
                                    "authors": "Patricia Cornwell",
                                    "title": "Hornet's Nest (Andy Brazil, #1)",
                                    "Average Ratings": "3.28"
                                },
                                {
                                    "book_id": "2508164",
                                    "authors": "Tonya Hurley",
                                    "title": "Ghostgirl (Ghostgirl, #1)",
                                    "Average Ratings": "3.28"
                                },
                                {
                                    "book_id": "6922622",
                                    "authors": "Sarah Palin, Lynn Vincent, Dewey Whetsell",
                                    "title": "Going Rogue: An American Life",
                                    "Average Ratings": "3.28"
                                },
                                {
                                    "book_id": "33926",
                                    "authors": "Melissa Bank",
                                    "title": "The Girls' Guide to Hunting and Fishing",
                                    "Average Ratings": "3.29"
                                },
                                {
                                    "book_id": "13722902",
                                    "authors": "Dave Eggers",
                                    "title": "A Hologram for the King",
                                    "Average Ratings": "3.29"
                                },
                                {
                                    "book_id": "3124249",
                                    "authors": "Gregory Maguire, Douglas Smith",
                                    "title": "A Lion Among Men (The Wicked Years, #3)",
                                    "Average Ratings": "3.29"
                                },
                                {
                                    "book_id": "11166890",
                                    "authors": "Dean Koontz",
                                    "title": "77 Shadow Street (Pendleton, #1)",
                                    "Average Ratings": "3.29"
                                },
                                {
                                    "book_id": "70509",
                                    "authors": "Gary Shteyngart",
                                    "title": "Absurdistan",
                                    "Average Ratings": "3.29"
                                },
                                {
                                    "book_id": "17182421",
                                    "authors": "Jason Mott",
                                    "title": "The Returned",
                                    "Average Ratings": "3.29"
                                }
                            ]
                        },
                        "text/html": [
                            "<table>",
                            "<tr><th>book_id</th><th>authors</th><th>title</th><th>Average Ratings</th></tr>",
                            "<tr><td>105578</td><td>Chetan Bhagat</td><td>One Night at the Call Center</td><td>2.47</td></tr>",
                            "<tr><td>783291</td><td>Alice Sebold</td><td>The Almost Moon</td><td>2.67</td></tr>",
                            "<tr><td>8664368</td><td>Howard Jacobson</td><td>The Finkler Question</td><td>2.76</td></tr>",
                            "<tr><td>6613</td><td>Candace Bushnell</td><td>Four Blondes</td><td>2.8</td></tr>",
                            "<tr><td>24929</td><td>Gregory Maguire, Douglas Smith</td><td>Lost</td><td>2.8</td></tr>",
                            "<tr><td>16130307</td><td>Lauren Weisberger</td><td>Revenge Wears Prada: The Devil Returns (The Devil Wears Prada, #2)</td><td>2.84</td></tr>",
                            "<tr><td>23503361</td><td>Julia Pierpont</td><td>Among the Ten Thousand Things</td><td>2.84</td></tr>",
                            "<tr><td>6855294</td><td>Chuck Palahniuk</td><td>Tell-All</td><td>2.84</td></tr>",
                            "<tr><td>3648</td><td>Claire Messud</td><td>The Emperor's Children</td><td>2.93</td></tr>",
                            "<tr><td>12878667</td><td>Mark Haddon</td><td>The Red House</td><td>2.93</td></tr>",
                            "<tr><td>4601396</td><td>Chuck Palahniuk</td><td>Pygmy</td><td>2.96</td></tr>",
                            "<tr><td>3320520</td><td>Chetan Bhagat</td><td>The 3 Mistakes of My Life</td><td>2.97</td></tr>",
                            "<tr><td>19523454</td><td>Chuck Palahniuk</td><td>Beautiful You</td><td>2.98</td></tr>",
                            "<tr><td>5557442</td><td>يوسف زيدان</td><td>ظل الأفعى</td><td>3</td></tr>",
                            "<tr><td>20819682</td><td>Paulo Coelho</td><td>Adultery</td><td>3.01</td></tr>",
                            "<tr><td>12712435</td><td>Maggie Shipstead</td><td>Seating Arrangements</td><td>3.02</td></tr>",
                            "<tr><td>998133</td><td>Anne Enright</td><td>The Gathering</td><td>3.04</td></tr>",
                            "<tr><td>7824768</td><td>خالد الباتلي</td><td>ليتها تقرأ</td><td>3.04</td></tr>",
                            "<tr><td>23492673</td><td>Wednesday Martin</td><td>Primates of Park Avenue</td><td>3.05</td></tr>",
                            "<tr><td>12615008</td><td>Chetan Bhagat</td><td>Revolution 2020: Love, Corruption, Ambition</td><td>3.07</td></tr>",
                            "<tr><td>2152</td><td>Karen Joy Fowler</td><td>The Jane Austen Book Club</td><td>3.07</td></tr>",
                            "<tr><td>14963</td><td>Anita Shreve</td><td>A Wedding in December</td><td>3.08</td></tr>",
                            "<tr><td>18453074</td><td>Joshua Ferris</td><td>To Rise Again at a Decent Hour</td><td>3.08</td></tr>",
                            "<tr><td>15613</td><td>Herman Melville</td><td>Billy Budd, Sailor</td><td>3.09</td></tr>",
                            "<tr><td>6976</td><td>Sue Monk Kidd</td><td>The Mermaid Chair</td><td>3.1</td></tr>",
                            "<tr><td>13489517</td><td>أحمد حلمي</td><td>28 حرف</td><td>3.1</td></tr>",
                            "<tr><td>4530</td><td>Helen Fielding</td><td>Olivia Joules and the Overactive Imagination</td><td>3.1</td></tr>",
                            "<tr><td>18465657</td><td>Emily Giffin</td><td>The One &amp; Only</td><td>3.11</td></tr>",
                            "<tr><td>10047589</td><td>Jennifer Close</td><td>Girls in White Dresses</td><td>3.12</td></tr>",
                            "<tr><td>18656036</td><td>Megan Abbott</td><td>The Fever</td><td>3.12</td></tr>",
                            "<tr><td>54270</td><td>Adolf Hitler</td><td>Mein Kampf</td><td>3.13</td></tr>",
                            "<tr><td>18295858</td><td>Emma Donoghue</td><td>Frog Music</td><td>3.13</td></tr>",
                            "<tr><td>7176578</td><td>Yann Martel</td><td>Beatrice and Virgil</td><td>3.13</td></tr>",
                            "<tr><td>18641982</td><td>Emma Straub</td><td>The Vacationers</td><td>3.14</td></tr>",
                            "<tr><td>6076387</td><td>Lorrie Moore</td><td>A Gate at the Stairs</td><td>3.14</td></tr>",
                            "<tr><td>7519866</td><td>Bret Easton Ellis</td><td>Imperial Bedrooms </td><td>3.14</td></tr>",
                            "<tr><td>13151283</td><td>محمد صادق</td><td>بضع ساعات في يوم ما</td><td>3.14</td></tr>",
                            "<tr><td>3710</td><td>Zadie Smith</td><td>The Autograph Man</td><td>3.14</td></tr>",
                            "<tr><td>25131600</td><td>Chuck Wendig</td><td>Aftermath (Star Wars: Aftermath, #1)</td><td>3.15</td></tr>",
                            "<tr><td>22874559</td><td>Chetan Bhagat</td><td>Half Girlfriend</td><td>3.16</td></tr>",
                            "<tr><td>5396496</td><td>Christos Tsiolkas</td><td>The Slap</td><td>3.16</td></tr>",
                            "<tr><td>16076787</td><td>أحمد خالد توفيق</td><td>السنجة</td><td>3.16</td></tr>",
                            "<tr><td>10209997</td><td>Chris Bohjalian</td><td>The Night Strangers</td><td>3.16</td></tr>",
                            "<tr><td>6365221</td><td>Rhoda Janzen</td><td>Mennonite in a Little Black Dress: A Memoir of Going Home</td><td>3.17</td></tr>",
                            "<tr><td>1476261</td><td>Rajaa Alsanea</td><td>Girls of Riyadh</td><td>3.17</td></tr>",
                            "<tr><td>1840511</td><td>Chuck Palahniuk</td><td>Snuff</td><td>3.18</td></tr>",
                            "<tr><td>4268</td><td>Nick Hornby</td><td>How to Be Good</td><td>3.18</td></tr>",
                            "<tr><td>12923</td><td>Horace Walpole</td><td>The Castle of Otranto</td><td>3.18</td></tr>",
                            "<tr><td>443540</td><td>Anita Shreve</td><td>All He Ever Wanted</td><td>3.18</td></tr>",
                            "<tr><td>7048800</td><td>Aimee Bender</td><td>The Particular Sadness of Lemon Cake</td><td>3.19</td></tr>",
                            "<tr><td>28449270</td><td>Maria Semple</td><td>Today Will Be Different</td><td>3.19</td></tr>",
                            "<tr><td>10914</td><td>Jodi Picoult</td><td>Songs of the Humpback Whale</td><td>3.19</td></tr>",
                            "<tr><td>178813</td><td>Candace Bushnell</td><td>Trading Up</td><td>3.2</td></tr>",
                            "<tr><td>12888599</td><td>Charlotte Rogan</td><td>The Lifeboat</td><td>3.2</td></tr>",
                            "<tr><td>28700</td><td>Don DeLillo, محمدصادق رئیسی</td><td>Falling Man</td><td>3.2</td></tr>",
                            "<tr><td>35220</td><td>Stephen Crane</td><td>The Red Badge of Courage</td><td>3.21</td></tr>",
                            "<tr><td>12875355</td><td>P.D. James</td><td>Death Comes to Pemberley</td><td>3.21</td></tr>",
                            "<tr><td>8584686</td><td>Karen Russell</td><td>Swamplandia!</td><td>3.21</td></tr>",
                            "<tr><td>18316089</td><td>Amy Bloom</td><td>Lucky Us</td><td>3.21</td></tr>",
                            "<tr><td>7011879</td><td>Durjoy Datta, Maanvi Ahuja</td><td>Of Course I Love You...! Till I Find Someone Better...</td><td>3.21</td></tr>",
                            "<tr><td>52367</td><td>Frank Miller, Lynn Varley</td><td>Batman: The Dark Knight Strikes Again (The Dark Knight Saga, #2)</td><td>3.21</td></tr>",
                            "<tr><td>15797938</td><td>Herman Koch, Sam Garrett</td><td>The Dinner</td><td>3.22</td></tr>",
                            "<tr><td>18431</td><td>Ian Caldwell, Dustin Thomason</td><td>The Rule of Four</td><td>3.22</td></tr>",
                            "<tr><td>18774020</td><td>Edan Lepucki</td><td>California</td><td>3.22</td></tr>",
                            "<tr><td>28703</td><td>Don DeLillo</td><td>Cosmopolis</td><td>3.22</td></tr>",
                            "<tr><td>4660</td><td>John Irving</td><td>The 158-Pound Marriage</td><td>3.22</td></tr>",
                            "<tr><td>6202342</td><td>Audrey Niffenegger</td><td>Her Fearful Symmetry</td><td>3.23</td></tr>",
                            "<tr><td>7140754</td><td>Ian McEwan</td><td>Solar</td><td>3.23</td></tr>",
                            "<tr><td>12982393</td><td>Megan Abbott</td><td>Dare Me</td><td>3.23</td></tr>",
                            "<tr><td>1402668</td><td>Madeleine Wickham</td><td>The Gatecrasher</td><td>3.24</td></tr>",
                            "<tr><td>8318666</td><td>Jean M. Auel</td><td>The Land of Painted Caves (Earth's Children, #6)</td><td>3.24</td></tr>",
                            "<tr><td>21064599</td><td>Sophie Kinsella</td><td>Shopaholic to the Stars (Shopaholic, #7)</td><td>3.24</td></tr>",
                            "<tr><td>194086</td><td>Madeleine Wickham</td><td>Sleeping Arrangements</td><td>3.24</td></tr>",
                            "<tr><td>347143</td><td>Tom Perrotta</td><td>The Abstinence Teacher</td><td>3.24</td></tr>",
                            "<tr><td>17412188</td><td>S.J. Watson</td><td>Second Life</td><td>3.24</td></tr>",
                            "<tr><td>18090150</td><td>Isabel Allende, Oliver Brock, Frank Wynne</td><td>Ripper</td><td>3.24</td></tr>",
                            "<tr><td>22725443</td><td>Jill Alexander Essbaum</td><td>Hausfrau</td><td>3.24</td></tr>",
                            "<tr><td>4929705</td><td>Robert Goolrick</td><td>A Reliable Wife</td><td>3.25</td></tr>",
                            "<tr><td>207034</td><td>Jeanne DuPrau</td><td>The Prophet of Yonwood (Book of Ember, #3)</td><td>3.25</td></tr>",
                            "<tr><td>10365343</td><td>Colson Whitehead</td><td>Zone One</td><td>3.25</td></tr>",
                            "<tr><td>381704</td><td>Plum Sykes</td><td>Bergdorf Blondes</td><td>3.26</td></tr>",
                            "<tr><td>16131193</td><td>Lily Koppel</td><td>The Astronaut Wives Club</td><td>3.26</td></tr>",
                            "<tr><td>31333</td><td>Anne Rice</td><td>Violin</td><td>3.26</td></tr>",
                            "<tr><td>15858</td><td>Gregory Maguire</td><td>Mirror Mirror</td><td>3.27</td></tr>",
                            "<tr><td>411527</td><td>Nick Hornby</td><td>Slam</td><td>3.27</td></tr>",
                            "<tr><td>13497818</td><td>J.K. Rowling</td><td>The Casual Vacancy</td><td>3.28</td></tr>",
                            "<tr><td>5899779</td><td>Seth Grahame-Smith, Jane Austen</td><td>Pride and Prejudice and Zombies (Pride and Prejudice and Zombies, #1)</td><td>3.28</td></tr>",
                            "<tr><td>26582</td><td>A.N. Roquelaure, Anne Rice</td><td>The Claiming of Sleeping Beauty (Sleeping Beauty, #1)</td><td>3.28</td></tr>",
                            "<tr><td>26192646</td><td>Stephanie Danler</td><td>Sweetbitter</td><td>3.28</td></tr>",
                            "<tr><td>10574</td><td>Stephen King</td><td>The Colorado Kid (Hard Case Crime #13)</td><td>3.28</td></tr>",
                            "<tr><td>16188</td><td>Philippa Gregory</td><td>Wideacre  (The Wideacre Trilogy, #1)</td><td>3.28</td></tr>",
                            "<tr><td>392217</td><td>Patricia Cornwell</td><td>Hornet's Nest (Andy Brazil, #1)</td><td>3.28</td></tr>",
                            "<tr><td>2508164</td><td>Tonya Hurley</td><td>Ghostgirl (Ghostgirl, #1)</td><td>3.28</td></tr>",
                            "<tr><td>6922622</td><td>Sarah Palin, Lynn Vincent, Dewey Whetsell</td><td>Going Rogue: An American Life</td><td>3.28</td></tr>",
                            "<tr><td>33926</td><td>Melissa Bank</td><td>The Girls' Guide to Hunting and Fishing</td><td>3.29</td></tr>",
                            "<tr><td>13722902</td><td>Dave Eggers</td><td>A Hologram for the King</td><td>3.29</td></tr>",
                            "<tr><td>3124249</td><td>Gregory Maguire, Douglas Smith</td><td>A Lion Among Men (The Wicked Years, #3)</td><td>3.29</td></tr>",
                            "<tr><td>11166890</td><td>Dean Koontz</td><td>77 Shadow Street (Pendleton, #1)</td><td>3.29</td></tr>",
                            "<tr><td>70509</td><td>Gary Shteyngart</td><td>Absurdistan</td><td>3.29</td></tr>",
                            "<tr><td>17182421</td><td>Jason Mott</td><td>The Returned</td><td>3.29</td></tr>",
                            "</table>"
                        ]
                    }
                }
            ],
            "execution_count": 4
        },
        {
            "cell_type": "markdown",
            "source": [
                "Question 3: Which tag is the most popular?"
            ],
            "metadata": {
                "azdata_cell_guid": "a370909d-5d64-49e2-8fec-5220730c8ca7"
            },
            "attachments": {}
        },
        {
            "cell_type": "code",
            "source": [
                "-- return most popular tag\n",
                "SELECT TOP 1 tag_id, count\n",
                "FROM BooksDB.dbo.book_tags\n",
                "ORDER BY count DESC"
            ],
            "metadata": {
                "azdata_cell_guid": "9e0451dc-c4d3-4775-9eb1-904854f459ff",
                "tags": [],
                "language": "sql"
            },
            "outputs": [
                {
                    "output_type": "display_data",
                    "data": {
                        "text/html": "(1 row affected)"
                    },
                    "metadata": {}
                },
                {
                    "output_type": "display_data",
                    "data": {
                        "text/html": "Total execution time: 00:00:00.335"
                    },
                    "metadata": {}
                },
                {
                    "output_type": "execute_result",
                    "metadata": {},
                    "execution_count": 96,
                    "data": {
                        "application/vnd.dataresource+json": {
                            "schema": {
                                "fields": [
                                    {
                                        "name": "tag_id"
                                    },
                                    {
                                        "name": "count"
                                    }
                                ]
                            },
                            "data": [
                                {
                                    "tag_id": "30574",
                                    "count": "596234"
                                }
                            ]
                        },
                        "text/html": [
                            "<table>",
                            "<tr><th>tag_id</th><th>count</th></tr>",
                            "<tr><td>30574</td><td>596234</td></tr>",
                            "</table>"
                        ]
                    }
                }
            ],
            "execution_count": 96
        },
        {
            "cell_type": "markdown",
            "source": [
                "Question 4: What is the name of the most popular tag?"
            ],
            "metadata": {
                "azdata_cell_guid": "3cdfa7e6-c5a6-49fb-aa27-afeece881627"
            },
            "attachments": {}
        },
        {
            "cell_type": "code",
            "source": [
                "-- return name of most popular tag\n",
                "SELECT tag_name\n",
                "FROM BooksDB.dbo.tags\n",
                "WHERE tag_id = 30574"
            ],
            "metadata": {
                "azdata_cell_guid": "3cd3a3ec-4ce2-49b6-b714-44179eed00e1",
                "language": "sql"
            },
            "outputs": [
                {
                    "output_type": "display_data",
                    "data": {
                        "text/html": "(1 row affected)"
                    },
                    "metadata": {}
                },
                {
                    "output_type": "display_data",
                    "data": {
                        "text/html": "Total execution time: 00:00:00.047"
                    },
                    "metadata": {}
                },
                {
                    "output_type": "execute_result",
                    "metadata": {},
                    "execution_count": 17,
                    "data": {
                        "application/vnd.dataresource+json": {
                            "schema": {
                                "fields": [
                                    {
                                        "name": "tag_name"
                                    }
                                ]
                            },
                            "data": [
                                {
                                    "tag_name": "to-read"
                                }
                            ]
                        },
                        "text/html": [
                            "<table>",
                            "<tr><th>tag_name</th></tr>",
                            "<tr><td>to-read</td></tr>",
                            "</table>"
                        ]
                    }
                }
            ],
            "execution_count": 17
        },
        {
            "cell_type": "markdown",
            "source": [
                "Question 5: How many books where released in the first decade of 2000?"
            ],
            "metadata": {
                "azdata_cell_guid": "b3962545-c0c2-47ca-a3c4-299c2c0a4b0c"
            },
            "attachments": {}
        },
        {
            "cell_type": "code",
            "source": [
                "-- return number of books published in the first decade of 2000\n",
                "SELECT COUNT(books_count) AS \"Number of Books Published 2000-2010\"\n",
                "FROM BooksDB.dbo.books\n",
                "WHERE original_publication_year >= 2000 AND original_publication_year <= 2010"
            ],
            "metadata": {
                "azdata_cell_guid": "8dcd65e9-1b3e-4cf8-b726-26729a1225f2",
                "language": "sql"
            },
            "outputs": [
                {
                    "output_type": "display_data",
                    "data": {
                        "text/html": "(1 row affected)"
                    },
                    "metadata": {}
                },
                {
                    "output_type": "display_data",
                    "data": {
                        "text/html": "Total execution time: 00:00:00.050"
                    },
                    "metadata": {}
                },
                {
                    "output_type": "execute_result",
                    "metadata": {},
                    "execution_count": 53,
                    "data": {
                        "application/vnd.dataresource+json": {
                            "schema": {
                                "fields": [
                                    {
                                        "name": "Number of Books Published 2000-2010"
                                    }
                                ]
                            },
                            "data": [
                                {
                                    "Number of Books Published 2000-2010": "3594"
                                }
                            ]
                        },
                        "text/html": [
                            "<table>",
                            "<tr><th>Number of Books Published 2000-2010</th></tr>",
                            "<tr><td>3594</td></tr>",
                            "</table>"
                        ]
                    }
                }
            ],
            "execution_count": 53
        },
        {
            "cell_type": "markdown",
            "source": [
                "Question 6: How many book titles contain the word Happy?"
            ],
            "metadata": {
                "azdata_cell_guid": "5080d6de-2775-4055-97ae-f93fce97a426"
            },
            "attachments": {}
        },
        {
            "cell_type": "code",
            "source": [
                "-- return number of books that contain the word Happy\n",
                "SELECT COUNT(*)\n",
                "FROM BooksDB.dbo.books\n",
                "WHERE title LIKE '%Happy%'\n",
                ""
            ],
            "metadata": {
                "azdata_cell_guid": "f55f18b9-91b1-4761-ad8c-4758434d7827",
                "language": "sql"
            },
            "outputs": [
                {
                    "output_type": "display_data",
                    "data": {
                        "text/html": "(1 row affected)"
                    },
                    "metadata": {}
                },
                {
                    "output_type": "display_data",
                    "data": {
                        "text/html": "Total execution time: 00:00:00.094"
                    },
                    "metadata": {}
                },
                {
                    "output_type": "execute_result",
                    "metadata": {},
                    "execution_count": 19,
                    "data": {
                        "application/vnd.dataresource+json": {
                            "schema": {
                                "fields": [
                                    {
                                        "name": "(No column name)"
                                    }
                                ]
                            },
                            "data": [
                                {
                                    "(No column name)": "13"
                                }
                            ]
                        },
                        "text/html": [
                            "<table>",
                            "<tr><th>(No column name)</th></tr>",
                            "<tr><td>13</td></tr>",
                            "</table>"
                        ]
                    }
                }
            ],
            "execution_count": 19
        },
        {
            "cell_type": "markdown",
            "source": [
                "Question 7: List the books from the top 3 authors from question 1.  If there is more than one author just use the first one. Sort the titles <span style=\"background-color: rgba(127, 127, 127, 0.1); font-family: -apple-system, BlinkMacSystemFont, sans-serif;\">alphabetically by author and then by average_rating, best rated to lowest. Does order matter in sorting?</span>"
            ],
            "metadata": {
                "azdata_cell_guid": "d38270ef-da5a-42b4-802a-506acb8b9e4b"
            },
            "attachments": {}
        },
        {
            "cell_type": "code",
            "source": [
                "-- return all books from the top 3 authors, sort by author and rating\n",
                "SELECT TOP 3 authors, average_rating, title\n",
                "FROM BooksDB.dbo.books\n",
                "ORDER BY average_rating DESC, authors\n",
                "\n",
                "\n",
                ""
            ],
            "metadata": {
                "azdata_cell_guid": "47466fac-5d8d-491d-bd3c-2f8496f55e6b",
                "language": "sql"
            },
            "outputs": [
                {
                    "output_type": "display_data",
                    "data": {
                        "text/html": "(3 rows affected)"
                    },
                    "metadata": {}
                },
                {
                    "output_type": "display_data",
                    "data": {
                        "text/html": "Total execution time: 00:00:00.052"
                    },
                    "metadata": {}
                },
                {
                    "output_type": "execute_result",
                    "metadata": {},
                    "execution_count": 92,
                    "data": {
                        "application/vnd.dataresource+json": {
                            "schema": {
                                "fields": [
                                    {
                                        "name": "authors"
                                    },
                                    {
                                        "name": "average_rating"
                                    },
                                    {
                                        "name": "title"
                                    }
                                ]
                            },
                            "data": [
                                {
                                    "authors": "Bill Watterson",
                                    "average_rating": "4.82",
                                    "title": "The Complete Calvin and Hobbes"
                                },
                                {
                                    "authors": "Brandon Sanderson",
                                    "average_rating": "4.77",
                                    "title": "Words of Radiance (The Stormlight Archive, #2)"
                                },
                                {
                                    "authors": "J.K. Rowling, Mary GrandPré",
                                    "average_rating": "4.77",
                                    "title": "Harry Potter Boxed Set, Books 1-5 (Harry Potter, #1-5)"
                                }
                            ]
                        },
                        "text/html": [
                            "<table>",
                            "<tr><th>authors</th><th>average_rating</th><th>title</th></tr>",
                            "<tr><td>Bill Watterson</td><td>4.82</td><td>The Complete Calvin and Hobbes</td></tr>",
                            "<tr><td>Brandon Sanderson</td><td>4.77</td><td>Words of Radiance (The Stormlight Archive, #2)</td></tr>",
                            "<tr><td>J.K. Rowling, Mary GrandPré</td><td>4.77</td><td>Harry Potter Boxed Set, Books 1-5 (Harry Potter, #1-5)</td></tr>",
                            "</table>"
                        ]
                    }
                }
            ],
            "execution_count": 92
        },
        {
            "cell_type": "markdown",
            "source": [
                "Question 8: Take a close look at J.K. Rowling.  Is her top rated book on this list from question 1?  Why might this be? How could we account for this?\n",
                "\n",
                "> Yes, her top rated book was Harry Potter Boxed Set, Books 1-5. Question 1 is also sorting by highest to lowest rating, and this book is one of the highest rated books."
            ],
            "metadata": {
                "azdata_cell_guid": "db907c70-0bbd-4121-ac91-ae814f703243"
            },
            "attachments": {}
        },
        {
            "cell_type": "markdown",
            "source": [
                "Try updating your above query to include all of J.K. Rowling's books.\n",
                "\n",
                "Are there any other issues?\n",
                "\n",
                "> Yes, where is the average rating coming from for a box set of books or a collection of books. Is the costumer rating the set, or are they averaging the ratings for each book in the set?"
            ],
            "metadata": {
                "azdata_cell_guid": "35ee4a48-8e84-4eb5-95ca-f5cdddc8d682"
            },
            "attachments": {}
        },
        {
            "cell_type": "code",
            "source": [
                "-- Try updating your above query to include all of J.K. Rowling's books\n",
                "SELECT *\n",
                "FROM BooksDB.dbo.books\n",
                "WHERE authors LIKE '%J.K. Rowling%'\n",
                "ORDER BY average_rating DESC"
            ],
            "metadata": {
                "azdata_cell_guid": "ce489012-fce9-435c-b570-7734223a0678",
                "tags": [],
                "language": "sql"
            },
            "outputs": [
                {
                    "output_type": "display_data",
                    "data": {
                        "text/html": "(27 rows affected)"
                    },
                    "metadata": {}
                },
                {
                    "output_type": "display_data",
                    "data": {
                        "text/html": "Total execution time: 00:00:00.162"
                    },
                    "metadata": {}
                },
                {
                    "output_type": "execute_result",
                    "metadata": {},
                    "execution_count": 93,
                    "data": {
                        "application/vnd.dataresource+json": {
                            "schema": {
                                "fields": [
                                    {
                                        "name": "id"
                                    },
                                    {
                                        "name": "book_id"
                                    },
                                    {
                                        "name": "best_book_id"
                                    },
                                    {
                                        "name": "work_id"
                                    },
                                    {
                                        "name": "books_count"
                                    },
                                    {
                                        "name": "isbn"
                                    },
                                    {
                                        "name": "isbn13"
                                    },
                                    {
                                        "name": "authors"
                                    },
                                    {
                                        "name": "original_publication_year"
                                    },
                                    {
                                        "name": "original_title"
                                    },
                                    {
                                        "name": "title"
                                    },
                                    {
                                        "name": "language_code"
                                    },
                                    {
                                        "name": "average_rating"
                                    },
                                    {
                                        "name": "ratings_count"
                                    },
                                    {
                                        "name": "work_ratings_count"
                                    },
                                    {
                                        "name": "work_text_reviews_count"
                                    },
                                    {
                                        "name": "ratings_1"
                                    },
                                    {
                                        "name": "ratings_2"
                                    },
                                    {
                                        "name": "ratings_3"
                                    },
                                    {
                                        "name": "ratings_4"
                                    },
                                    {
                                        "name": "ratings_5"
                                    },
                                    {
                                        "name": "image_url"
                                    },
                                    {
                                        "name": "small_image_url"
                                    }
                                ]
                            },
                            "data": [
                                {
                                    "id": "3275",
                                    "book_id": "8",
                                    "best_book_id": "8",
                                    "work_id": "21457576",
                                    "books_count": "11",
                                    "isbn": "439682584",
                                    "isbn13": "9780439682590",
                                    "authors": "J.K. Rowling, Mary GrandPré",
                                    "original_publication_year": "2003",
                                    "original_title": "NULL",
                                    "title": "Harry Potter Boxed Set, Books 1-5 (Harry Potter, #1-5)",
                                    "language_code": "eng",
                                    "average_rating": "4.77",
                                    "ratings_count": "33220",
                                    "work_ratings_count": "33424",
                                    "work_text_reviews_count": "156",
                                    "ratings_1": "317",
                                    "ratings_2": "233",
                                    "ratings_3": "978",
                                    "ratings_4": "3686",
                                    "ratings_5": "28210",
                                    "image_url": "https://s.gr-assets.com/assets/nophoto/book/111x148-bcc042a9c91a29c1d680899eff700a03.png",
                                    "small_image_url": "https://s.gr-assets.com/assets/nophoto/book/50x75-a91bf249278a81aabab721ef782c4a74.png"
                                },
                                {
                                    "id": "422",
                                    "book_id": "862041",
                                    "best_book_id": "862041",
                                    "work_id": "2962492",
                                    "books_count": "76",
                                    "isbn": "545044251",
                                    "isbn13": "9780545044260",
                                    "authors": "J.K. Rowling",
                                    "original_publication_year": "1998",
                                    "original_title": "Complete Harry Potter Boxed Set",
                                    "title": "Harry Potter Boxset (Harry Potter, #1-7)",
                                    "language_code": "eng",
                                    "average_rating": "4.74",
                                    "ratings_count": "190050",
                                    "work_ratings_count": "204125",
                                    "work_text_reviews_count": "6508",
                                    "ratings_1": "1105",
                                    "ratings_2": "1285",
                                    "ratings_3": "7020",
                                    "ratings_4": "30666",
                                    "ratings_5": "164049",
                                    "image_url": "https://images.gr-assets.com/books/1392579059m/862041.jpg",
                                    "small_image_url": "https://images.gr-assets.com/books/1392579059s/862041.jpg"
                                },
                                {
                                    "id": "3753",
                                    "book_id": "10",
                                    "best_book_id": "10",
                                    "work_id": "21457570",
                                    "books_count": "6",
                                    "isbn": "439827604",
                                    "isbn13": "9780439827610",
                                    "authors": "J.K. Rowling",
                                    "original_publication_year": "2005",
                                    "original_title": "Harry Potter Collection (Harry Potter, #1-6)",
                                    "title": "Harry Potter Collection (Harry Potter, #1-6)",
                                    "language_code": "eng",
                                    "average_rating": "4.73",
                                    "ratings_count": "24618",
                                    "work_ratings_count": "26274",
                                    "work_text_reviews_count": "882",
                                    "ratings_1": "203",
                                    "ratings_2": "186",
                                    "ratings_3": "946",
                                    "ratings_4": "3891",
                                    "ratings_5": "21048",
                                    "image_url": "https://images.gr-assets.com/books/1328867351m/10.jpg",
                                    "small_image_url": "https://images.gr-assets.com/books/1328867351s/10.jpg"
                                },
                                {
                                    "id": "2101",
                                    "book_id": "99298",
                                    "best_book_id": "99298",
                                    "work_id": "5994366",
                                    "books_count": "17",
                                    "isbn": "439249546",
                                    "isbn13": "9780439249550",
                                    "authors": "J.K. Rowling, Mary GrandPré",
                                    "original_publication_year": "1999",
                                    "original_title": "Harry Potter Boxed Set Books 1-4",
                                    "title": "The Harry Potter Collection 1-4 (Harry Potter, #1-4)",
                                    "language_code": "eng",
                                    "average_rating": "4.66",
                                    "ratings_count": "43929",
                                    "work_ratings_count": "44842",
                                    "work_text_reviews_count": "265",
                                    "ratings_1": "307",
                                    "ratings_2": "424",
                                    "ratings_3": "2346",
                                    "ratings_4": "8186",
                                    "ratings_5": "33579",
                                    "image_url": "https://s.gr-assets.com/assets/nophoto/book/111x148-bcc042a9c91a29c1d680899eff700a03.png",
                                    "small_image_url": "https://s.gr-assets.com/assets/nophoto/book/50x75-a91bf249278a81aabab721ef782c4a74.png"
                                },
                                {
                                    "id": "25",
                                    "book_id": "136251",
                                    "best_book_id": "136251",
                                    "work_id": "2963218",
                                    "books_count": "263",
                                    "isbn": "545010225",
                                    "isbn13": "9780545010220",
                                    "authors": "J.K. Rowling, Mary GrandPré",
                                    "original_publication_year": "2007",
                                    "original_title": "Harry Potter and the Deathly Hallows",
                                    "title": "Harry Potter and the Deathly Hallows (Harry Potter, #7)",
                                    "language_code": "eng",
                                    "average_rating": "4.61",
                                    "ratings_count": "1746574",
                                    "work_ratings_count": "1847395",
                                    "work_text_reviews_count": "51942",
                                    "ratings_1": "9363",
                                    "ratings_2": "22245",
                                    "ratings_3": "113646",
                                    "ratings_4": "383914",
                                    "ratings_5": "1318227",
                                    "image_url": "https://images.gr-assets.com/books/1474171184m/136251.jpg",
                                    "small_image_url": "https://images.gr-assets.com/books/1474171184s/136251.jpg"
                                },
                                {
                                    "id": "6141",
                                    "book_id": "1317181",
                                    "best_book_id": "1317181",
                                    "work_id": "19079807",
                                    "books_count": "8",
                                    "isbn": "185549664X",
                                    "isbn13": "9781855496640",
                                    "authors": "J.K. Rowling",
                                    "original_publication_year": "2003",
                                    "original_title": "NULL",
                                    "title": "Harry Potter and the Order of the Phoenix (Harry Potter, #5, Part 1)",
                                    "language_code": "NULL",
                                    "average_rating": "4.56",
                                    "ratings_count": "16249",
                                    "work_ratings_count": "16350",
                                    "work_text_reviews_count": "272",
                                    "ratings_1": "114",
                                    "ratings_2": "199",
                                    "ratings_3": "1182",
                                    "ratings_4": "3744",
                                    "ratings_5": "11111",
                                    "image_url": "https://s.gr-assets.com/assets/nophoto/book/111x148-bcc042a9c91a29c1d680899eff700a03.png",
                                    "small_image_url": "https://s.gr-assets.com/assets/nophoto/book/50x75-a91bf249278a81aabab721ef782c4a74.png"
                                },
                                {
                                    "id": "27",
                                    "book_id": "1",
                                    "best_book_id": "1",
                                    "work_id": "41335427",
                                    "books_count": "275",
                                    "isbn": "439785960",
                                    "isbn13": "9780439785970",
                                    "authors": "J.K. Rowling, Mary GrandPré",
                                    "original_publication_year": "2005",
                                    "original_title": "Harry Potter and the Half-Blood Prince",
                                    "title": "Harry Potter and the Half-Blood Prince (Harry Potter, #6)",
                                    "language_code": "eng",
                                    "average_rating": "4.54",
                                    "ratings_count": "1678823",
                                    "work_ratings_count": "1785676",
                                    "work_text_reviews_count": "27520",
                                    "ratings_1": "7308",
                                    "ratings_2": "21516",
                                    "ratings_3": "136333",
                                    "ratings_4": "459028",
                                    "ratings_5": "1161491",
                                    "image_url": "https://images.gr-assets.com/books/1361039191m/1.jpg",
                                    "small_image_url": "https://images.gr-assets.com/books/1361039191s/1.jpg"
                                },
                                {
                                    "id": "18",
                                    "book_id": "5",
                                    "best_book_id": "5",
                                    "work_id": "2402163",
                                    "books_count": "376",
                                    "isbn": "043965548X",
                                    "isbn13": "9780439655480",
                                    "authors": "J.K. Rowling, Mary GrandPré, Rufus Beck",
                                    "original_publication_year": "1999",
                                    "original_title": "Harry Potter and the Prisoner of Azkaban",
                                    "title": "Harry Potter and the Prisoner of Azkaban (Harry Potter, #3)",
                                    "language_code": "eng",
                                    "average_rating": "4.53",
                                    "ratings_count": "1832823",
                                    "work_ratings_count": "1969375",
                                    "work_text_reviews_count": "36099",
                                    "ratings_1": "6716",
                                    "ratings_2": "20413",
                                    "ratings_3": "166129",
                                    "ratings_4": "509447",
                                    "ratings_5": "1266670",
                                    "image_url": "https://images.gr-assets.com/books/1499277281m/5.jpg",
                                    "small_image_url": "https://images.gr-assets.com/books/1499277281s/5.jpg"
                                },
                                {
                                    "id": "24",
                                    "book_id": "6",
                                    "best_book_id": "6",
                                    "work_id": "3046572",
                                    "books_count": "332",
                                    "isbn": "439139600",
                                    "isbn13": "9780439139600",
                                    "authors": "J.K. Rowling, Mary GrandPré",
                                    "original_publication_year": "2000",
                                    "original_title": "Harry Potter and the Goblet of Fire",
                                    "title": "Harry Potter and the Goblet of Fire (Harry Potter, #4)",
                                    "language_code": "eng",
                                    "average_rating": "4.53",
                                    "ratings_count": "1753043",
                                    "work_ratings_count": "1868642",
                                    "work_text_reviews_count": "31084",
                                    "ratings_1": "6676",
                                    "ratings_2": "20210",
                                    "ratings_3": "151785",
                                    "ratings_4": "494926",
                                    "ratings_5": "1195045",
                                    "image_url": "https://images.gr-assets.com/books/1361482611m/6.jpg",
                                    "small_image_url": "https://images.gr-assets.com/books/1361482611s/6.jpg"
                                },
                                {
                                    "id": "21",
                                    "book_id": "2",
                                    "best_book_id": "2",
                                    "work_id": "2809203",
                                    "books_count": "307",
                                    "isbn": "439358078",
                                    "isbn13": "9780439358070",
                                    "authors": "J.K. Rowling, Mary GrandPré",
                                    "original_publication_year": "2003",
                                    "original_title": "Harry Potter and the Order of the Phoenix",
                                    "title": "Harry Potter and the Order of the Phoenix (Harry Potter, #5)",
                                    "language_code": "eng",
                                    "average_rating": "4.46",
                                    "ratings_count": "1735368",
                                    "work_ratings_count": "1840548",
                                    "work_text_reviews_count": "28685",
                                    "ratings_1": "9528",
                                    "ratings_2": "31577",
                                    "ratings_3": "180210",
                                    "ratings_4": "494427",
                                    "ratings_5": "1124806",
                                    "image_url": "https://images.gr-assets.com/books/1387141547m/2.jpg",
                                    "small_image_url": "https://images.gr-assets.com/books/1387141547s/2.jpg"
                                },
                                {
                                    "id": "2",
                                    "book_id": "3",
                                    "best_book_id": "3",
                                    "work_id": "4640799",
                                    "books_count": "491",
                                    "isbn": "439554934",
                                    "isbn13": "9780439554930",
                                    "authors": "J.K. Rowling, Mary GrandPré",
                                    "original_publication_year": "1997",
                                    "original_title": "Harry Potter and the Philosopher's Stone",
                                    "title": "Harry Potter and the Sorcerer's Stone (Harry Potter, #1)",
                                    "language_code": "eng",
                                    "average_rating": "4.44",
                                    "ratings_count": "4602479",
                                    "work_ratings_count": "4800065",
                                    "work_text_reviews_count": "75867",
                                    "ratings_1": "75504",
                                    "ratings_2": "101676",
                                    "ratings_3": "455024",
                                    "ratings_4": "1156318",
                                    "ratings_5": "3011543",
                                    "image_url": "https://images.gr-assets.com/books/1474154022m/3.jpg",
                                    "small_image_url": "https://images.gr-assets.com/books/1474154022s/3.jpg"
                                },
                                {
                                    "id": "4641",
                                    "book_id": "30065028",
                                    "best_book_id": "29363501",
                                    "work_id": "50435175",
                                    "books_count": "49",
                                    "isbn": "NULL",
                                    "isbn13": "NULL",
                                    "authors": "J.K. Rowling",
                                    "original_publication_year": "2016",
                                    "original_title": "Fantastic Beasts and Where to Find Them: The Original Screenplay",
                                    "title": "Fantastic Beasts and Where to Find Them: The Original Screenplay",
                                    "language_code": "eng",
                                    "average_rating": "4.41",
                                    "ratings_count": "18290",
                                    "work_ratings_count": "42210",
                                    "work_text_reviews_count": "4692",
                                    "ratings_1": "323",
                                    "ratings_2": "721",
                                    "ratings_3": "4257",
                                    "ratings_4": "13024",
                                    "ratings_5": "23885",
                                    "image_url": "https://images.gr-assets.com/books/1476913365m/30065028.jpg",
                                    "small_image_url": "https://images.gr-assets.com/books/1476913365s/30065028.jpg"
                                },
                                {
                                    "id": "9048",
                                    "book_id": "2002",
                                    "best_book_id": "2002",
                                    "work_id": "8621948",
                                    "books_count": "5",
                                    "isbn": "043932162X",
                                    "isbn13": "9780439321620",
                                    "authors": "J.K. Rowling",
                                    "original_publication_year": "2001",
                                    "original_title": "NULL",
                                    "title": "Harry Potter Schoolbooks Box Set: Two Classic Books from the Library of Hogwarts School of Witchcraft and Wizardry",
                                    "language_code": "eng",
                                    "average_rating": "4.4",
                                    "ratings_count": "10736",
                                    "work_ratings_count": "11732",
                                    "work_text_reviews_count": "185",
                                    "ratings_1": "106",
                                    "ratings_2": "304",
                                    "ratings_3": "1548",
                                    "ratings_4": "2595",
                                    "ratings_5": "7179",
                                    "image_url": "https://images.gr-assets.com/books/1479775271m/2002.jpg",
                                    "small_image_url": "https://images.gr-assets.com/books/1479775271s/2002.jpg"
                                },
                                {
                                    "id": "23",
                                    "book_id": "15881",
                                    "best_book_id": "15881",
                                    "work_id": "6231171",
                                    "books_count": "398",
                                    "isbn": "439064864",
                                    "isbn13": "9780439064870",
                                    "authors": "J.K. Rowling, Mary GrandPré",
                                    "original_publication_year": "1998",
                                    "original_title": "Harry Potter and the Chamber of Secrets",
                                    "title": "Harry Potter and the Chamber of Secrets (Harry Potter, #2)",
                                    "language_code": "eng",
                                    "average_rating": "4.37",
                                    "ratings_count": "1779331",
                                    "work_ratings_count": "1906199",
                                    "work_text_reviews_count": "34172",
                                    "ratings_1": "8253",
                                    "ratings_2": "42251",
                                    "ratings_3": "242345",
                                    "ratings_4": "548266",
                                    "ratings_5": "1065084",
                                    "image_url": "https://images.gr-assets.com/books/1474169725m/15881.jpg",
                                    "small_image_url": "https://images.gr-assets.com/books/1474169725s/15881.jpg"
                                },
                                {
                                    "id": "7929",
                                    "book_id": "23731881",
                                    "best_book_id": "23731881",
                                    "work_id": "43264515",
                                    "books_count": "6",
                                    "isbn": "316369152",
                                    "isbn13": "9780316369150",
                                    "authors": "J.K. Rowling, Joel Holland",
                                    "original_publication_year": "2015",
                                    "original_title": "Very Good Lives: The Fringe Benefits of Failure and the Importance of Imagination",
                                    "title": "Very Good Lives: The Fringe Benefits of Failure and the Importance of Imagination",
                                    "language_code": "eng",
                                    "average_rating": "4.26",
                                    "ratings_count": "12510",
                                    "work_ratings_count": "13494",
                                    "work_text_reviews_count": "1838",
                                    "ratings_1": "312",
                                    "ratings_2": "408",
                                    "ratings_3": "1755",
                                    "ratings_4": "3965",
                                    "ratings_5": "7054",
                                    "image_url": "https://images.gr-assets.com/books/1418419116m/23731881.jpg",
                                    "small_image_url": "https://images.gr-assets.com/books/1418419116s/23731881.jpg"
                                },
                                {
                                    "id": "6428",
                                    "book_id": "31538635",
                                    "best_book_id": "31538635",
                                    "work_id": "52885176",
                                    "books_count": "18",
                                    "isbn": "1781106282",
                                    "isbn13": "9781781106280",
                                    "authors": "J.K. Rowling, MinaLima",
                                    "original_publication_year": "2016",
                                    "original_title": "Short Stories from Hogwarts of Heroism, Hardship and Dangerous Hobbies",
                                    "title": "Short Stories from Hogwarts of Heroism, Hardship and Dangerous Hobbies (Pottermore Presents, #1)",
                                    "language_code": "eng",
                                    "average_rating": "4.22",
                                    "ratings_count": "16285",
                                    "work_ratings_count": "24805",
                                    "work_text_reviews_count": "1743",
                                    "ratings_1": "636",
                                    "ratings_2": "713",
                                    "ratings_3": "3498",
                                    "ratings_4": "7555",
                                    "ratings_5": "12403",
                                    "image_url": "https://images.gr-assets.com/books/1471436733m/31538635.jpg",
                                    "small_image_url": "https://images.gr-assets.com/books/1471436733s/31538635.jpg"
                                },
                                {
                                    "id": "7523",
                                    "book_id": "31538647",
                                    "best_book_id": "31538647",
                                    "work_id": "52218770",
                                    "books_count": "18",
                                    "isbn": "NULL",
                                    "isbn13": "NULL",
                                    "authors": "J.K. Rowling",
                                    "original_publication_year": "2016",
                                    "original_title": "Hogwarts: An Incomplete and Unreliable Guide",
                                    "title": "Hogwarts: An Incomplete and Unreliable Guide (Pottermore Presents, #3)",
                                    "language_code": "eng",
                                    "average_rating": "4.21",
                                    "ratings_count": "14977",
                                    "work_ratings_count": "15844",
                                    "work_text_reviews_count": "1339",
                                    "ratings_1": "63",
                                    "ratings_2": "346",
                                    "ratings_3": "2806",
                                    "ratings_4": "5543",
                                    "ratings_5": "7086",
                                    "image_url": "https://images.gr-assets.com/books/1502156557m/31538647.jpg",
                                    "small_image_url": "https://images.gr-assets.com/books/1502156557s/31538647.jpg"
                                },
                                {
                                    "id": "1065",
                                    "book_id": "25735012",
                                    "best_book_id": "25735012",
                                    "work_id": "43699375",
                                    "books_count": "83",
                                    "isbn": "316349933",
                                    "isbn13": "9780316349930",
                                    "authors": "Robert Galbraith, J.K. Rowling",
                                    "original_publication_year": "2015",
                                    "original_title": "Career of Evil",
                                    "title": "Career of Evil (Cormoran Strike, #3)",
                                    "language_code": "eng",
                                    "average_rating": "4.21",
                                    "ratings_count": "66979",
                                    "work_ratings_count": "95274",
                                    "work_text_reviews_count": "10254",
                                    "ratings_1": "550",
                                    "ratings_2": "1926",
                                    "ratings_3": "12591",
                                    "ratings_4": "42325",
                                    "ratings_5": "37882",
                                    "image_url": "https://s.gr-assets.com/assets/nophoto/book/111x148-bcc042a9c91a29c1d680899eff700a03.png",
                                    "small_image_url": "https://s.gr-assets.com/assets/nophoto/book/50x75-a91bf249278a81aabab721ef782c4a74.png"
                                },
                                {
                                    "id": "7443",
                                    "book_id": "31538614",
                                    "best_book_id": "31538614",
                                    "work_id": "52218734",
                                    "books_count": "18",
                                    "isbn": "1781106290",
                                    "isbn13": "9781781106300",
                                    "authors": "J.K. Rowling, MinaLima",
                                    "original_publication_year": "2016",
                                    "original_title": "Short Stories from Hogwarts of Power, Politics and Pesky Poltergeists",
                                    "title": "Short Stories from Hogwarts of Power, Politics and Pesky Poltergeists (Pottermore Presents, #2)",
                                    "language_code": "eng",
                                    "average_rating": "4.2",
                                    "ratings_count": "10032",
                                    "work_ratings_count": "15880",
                                    "work_text_reviews_count": "1246",
                                    "ratings_1": "62",
                                    "ratings_2": "376",
                                    "ratings_3": "2872",
                                    "ratings_4": "5600",
                                    "ratings_5": "6970",
                                    "image_url": "https://images.gr-assets.com/books/1471436601m/31538614.jpg",
                                    "small_image_url": "https://images.gr-assets.com/books/1471436601s/31538614.jpg"
                                },
                                {
                                    "id": "8369",
                                    "book_id": "3130430",
                                    "best_book_id": "3130430",
                                    "work_id": "3161838",
                                    "books_count": "19",
                                    "isbn": "1416554955",
                                    "isbn13": "9781416554950",
                                    "authors": "Melissa Anelli, J.K. Rowling",
                                    "original_publication_year": "2008",
                                    "original_title": "Harry, A History: The True Story of a Boy Wizard, His Fans, and Life Inside the Harry Potter Phenomenon",
                                    "title": "Harry, a History: The True Story of a Boy Wizard, His Fans, and Life Inside the Harry Potter Phenomenon",
                                    "language_code": "en-US",
                                    "average_rating": "4.09",
                                    "ratings_count": "12308",
                                    "work_ratings_count": "12528",
                                    "work_text_reviews_count": "652",
                                    "ratings_1": "337",
                                    "ratings_2": "715",
                                    "ratings_3": "2386",
                                    "ratings_4": "3149",
                                    "ratings_5": "5941",
                                    "image_url": "https://s.gr-assets.com/assets/nophoto/book/111x148-bcc042a9c91a29c1d680899eff700a03.png",
                                    "small_image_url": "https://s.gr-assets.com/assets/nophoto/book/50x75-a91bf249278a81aabab721ef782c4a74.png"
                                },
                                {
                                    "id": "399",
                                    "book_id": "3950967",
                                    "best_book_id": "3950967",
                                    "work_id": "3007490",
                                    "books_count": "131",
                                    "isbn": "747599874",
                                    "isbn13": "9780747599880",
                                    "authors": "J.K. Rowling",
                                    "original_publication_year": "2007",
                                    "original_title": "The Tales of Beedle the Bard",
                                    "title": "The Tales of Beedle the Bard",
                                    "language_code": "en-US",
                                    "average_rating": "4.06",
                                    "ratings_count": "284833",
                                    "work_ratings_count": "319107",
                                    "work_text_reviews_count": "11330",
                                    "ratings_1": "3019",
                                    "ratings_2": "15025",
                                    "ratings_3": "69367",
                                    "ratings_4": "103350",
                                    "ratings_5": "128346",
                                    "image_url": "https://images.gr-assets.com/books/1373467575m/3950967.jpg",
                                    "small_image_url": "https://images.gr-assets.com/books/1373467575s/3950967.jpg"
                                },
                                {
                                    "id": "695",
                                    "book_id": "18214414",
                                    "best_book_id": "18214414",
                                    "work_id": "25639104",
                                    "books_count": "109",
                                    "isbn": "316206873",
                                    "isbn13": "9780316206880",
                                    "authors": "Robert Galbraith, J.K. Rowling",
                                    "original_publication_year": "2014",
                                    "original_title": "The Silkworm",
                                    "title": "The Silkworm (Cormoran Strike, #2)",
                                    "language_code": "eng",
                                    "average_rating": "4.03",
                                    "ratings_count": "120008",
                                    "work_ratings_count": "145146",
                                    "work_text_reviews_count": "13549",
                                    "ratings_1": "1330",
                                    "ratings_2": "4361",
                                    "ratings_3": "27130",
                                    "ratings_4": "67680",
                                    "ratings_5": "44645",
                                    "image_url": "https://images.gr-assets.com/books/1392577290m/18214414.jpg",
                                    "small_image_url": "https://images.gr-assets.com/books/1392577290s/18214414.jpg"
                                },
                                {
                                    "id": "469",
                                    "book_id": "41899",
                                    "best_book_id": "41899",
                                    "work_id": "4195128",
                                    "books_count": "123",
                                    "isbn": "439321603",
                                    "isbn13": "9780439321600",
                                    "authors": "Newt Scamander, J.K. Rowling, Albus Dumbledore",
                                    "original_publication_year": "2001",
                                    "original_title": "Fantastic Beasts and Where to Find Them",
                                    "title": "Fantastic Beasts and Where to Find Them",
                                    "language_code": "eng",
                                    "average_rating": "3.95",
                                    "ratings_count": "185928",
                                    "work_ratings_count": "209465",
                                    "work_text_reviews_count": "6523",
                                    "ratings_1": "2847",
                                    "ratings_2": "13155",
                                    "ratings_3": "52573",
                                    "ratings_4": "64027",
                                    "ratings_5": "76863",
                                    "image_url": "https://images.gr-assets.com/books/1303738520m/41899.jpg",
                                    "small_image_url": "https://images.gr-assets.com/books/1303738520s/41899.jpg"
                                },
                                {
                                    "id": "1286",
                                    "book_id": "111450",
                                    "best_book_id": "111450",
                                    "work_id": "6247751",
                                    "books_count": "103",
                                    "isbn": "439321611",
                                    "isbn13": "9780439321620",
                                    "authors": "Kennilworthy Whisp, J.K. Rowling",
                                    "original_publication_year": "2001",
                                    "original_title": "Quidditch Through the Ages",
                                    "title": "Quidditch Through the Ages",
                                    "language_code": "eng",
                                    "average_rating": "3.85",
                                    "ratings_count": "90908",
                                    "work_ratings_count": "106088",
                                    "work_text_reviews_count": "3502",
                                    "ratings_1": "1367",
                                    "ratings_2": "8104",
                                    "ratings_3": "29884",
                                    "ratings_4": "32041",
                                    "ratings_5": "34692",
                                    "image_url": "https://images.gr-assets.com/books/1369689506m/111450.jpg",
                                    "small_image_url": "https://images.gr-assets.com/books/1369689506s/111450.jpg"
                                },
                                {
                                    "id": "253",
                                    "book_id": "16160797",
                                    "best_book_id": "16160797",
                                    "work_id": "22002305",
                                    "books_count": "48",
                                    "isbn": "316206849",
                                    "isbn13": "9780316206850",
                                    "authors": "Robert Galbraith, J.K. Rowling",
                                    "original_publication_year": "2013",
                                    "original_title": "The Cuckoo's Calling",
                                    "title": "The Cuckoo's Calling (Cormoran Strike, #1)",
                                    "language_code": "en-US",
                                    "average_rating": "3.83",
                                    "ratings_count": "297712",
                                    "work_ratings_count": "340495",
                                    "work_text_reviews_count": "27258",
                                    "ratings_1": "9729",
                                    "ratings_2": "20151",
                                    "ratings_3": "79290",
                                    "ratings_4": "138955",
                                    "ratings_5": "92370",
                                    "image_url": "https://images.gr-assets.com/books/1358716559m/16160797.jpg",
                                    "small_image_url": "https://images.gr-assets.com/books/1358716559s/16160797.jpg"
                                },
                                {
                                    "id": "279",
                                    "book_id": "29056083",
                                    "best_book_id": "29056083",
                                    "work_id": "48765776",
                                    "books_count": "95",
                                    "isbn": "751565350",
                                    "isbn13": "9780751565360",
                                    "authors": "John Tiffany, Jack Thorne, J.K. Rowling",
                                    "original_publication_year": "2016",
                                    "original_title": "Harry Potter and the Cursed Child, Parts One and Two",
                                    "title": "Harry Potter and the Cursed Child - Parts One and Two (Harry Potter, #8)",
                                    "language_code": "eng",
                                    "average_rating": "3.75",
                                    "ratings_count": "270603",
                                    "work_ratings_count": "397773",
                                    "work_text_reviews_count": "53365",
                                    "ratings_1": "15828",
                                    "ratings_2": "35842",
                                    "ratings_3": "96395",
                                    "ratings_4": "133156",
                                    "ratings_5": "116552",
                                    "image_url": "https://images.gr-assets.com/books/1470082995m/29056083.jpg",
                                    "small_image_url": "https://images.gr-assets.com/books/1470082995s/29056083.jpg"
                                },
                                {
                                    "id": "342",
                                    "book_id": "13497818",
                                    "best_book_id": "13497818",
                                    "work_id": "19926990",
                                    "books_count": "139",
                                    "isbn": "316228532",
                                    "isbn13": "9780316228530",
                                    "authors": "J.K. Rowling",
                                    "original_publication_year": "2012",
                                    "original_title": "The Casual Vacancy",
                                    "title": "The Casual Vacancy",
                                    "language_code": "eng",
                                    "average_rating": "3.28",
                                    "ratings_count": "231835",
                                    "work_ratings_count": "254461",
                                    "work_text_reviews_count": "28751",
                                    "ratings_1": "24583",
                                    "ratings_2": "38326",
                                    "ratings_3": "74611",
                                    "ratings_4": "75741",
                                    "ratings_5": "41200",
                                    "image_url": "https://images.gr-assets.com/books/1358266832m/13497818.jpg",
                                    "small_image_url": "https://images.gr-assets.com/books/1358266832s/13497818.jpg"
                                }
                            ]
                        },
                        "text/html": [
                            "<table>",
                            "<tr><th>id</th><th>book_id</th><th>best_book_id</th><th>work_id</th><th>books_count</th><th>isbn</th><th>isbn13</th><th>authors</th><th>original_publication_year</th><th>original_title</th><th>title</th><th>language_code</th><th>average_rating</th><th>ratings_count</th><th>work_ratings_count</th><th>work_text_reviews_count</th><th>ratings_1</th><th>ratings_2</th><th>ratings_3</th><th>ratings_4</th><th>ratings_5</th><th>image_url</th><th>small_image_url</th></tr>",
                            "<tr><td>3275</td><td>8</td><td>8</td><td>21457576</td><td>11</td><td>439682584</td><td>9780439682590</td><td>J.K. Rowling, Mary GrandPré</td><td>2003</td><td>NULL</td><td>Harry Potter Boxed Set, Books 1-5 (Harry Potter, #1-5)</td><td>eng</td><td>4.77</td><td>33220</td><td>33424</td><td>156</td><td>317</td><td>233</td><td>978</td><td>3686</td><td>28210</td><td>https://s.gr-assets.com/assets/nophoto/book/111x148-bcc042a9c91a29c1d680899eff700a03.png</td><td>https://s.gr-assets.com/assets/nophoto/book/50x75-a91bf249278a81aabab721ef782c4a74.png</td></tr>",
                            "<tr><td>422</td><td>862041</td><td>862041</td><td>2962492</td><td>76</td><td>545044251</td><td>9780545044260</td><td>J.K. Rowling</td><td>1998</td><td>Complete Harry Potter Boxed Set</td><td>Harry Potter Boxset (Harry Potter, #1-7)</td><td>eng</td><td>4.74</td><td>190050</td><td>204125</td><td>6508</td><td>1105</td><td>1285</td><td>7020</td><td>30666</td><td>164049</td><td>https://images.gr-assets.com/books/1392579059m/862041.jpg</td><td>https://images.gr-assets.com/books/1392579059s/862041.jpg</td></tr>",
                            "<tr><td>3753</td><td>10</td><td>10</td><td>21457570</td><td>6</td><td>439827604</td><td>9780439827610</td><td>J.K. Rowling</td><td>2005</td><td>Harry Potter Collection (Harry Potter, #1-6)</td><td>Harry Potter Collection (Harry Potter, #1-6)</td><td>eng</td><td>4.73</td><td>24618</td><td>26274</td><td>882</td><td>203</td><td>186</td><td>946</td><td>3891</td><td>21048</td><td>https://images.gr-assets.com/books/1328867351m/10.jpg</td><td>https://images.gr-assets.com/books/1328867351s/10.jpg</td></tr>",
                            "<tr><td>2101</td><td>99298</td><td>99298</td><td>5994366</td><td>17</td><td>439249546</td><td>9780439249550</td><td>J.K. Rowling, Mary GrandPré</td><td>1999</td><td>Harry Potter Boxed Set Books 1-4</td><td>The Harry Potter Collection 1-4 (Harry Potter, #1-4)</td><td>eng</td><td>4.66</td><td>43929</td><td>44842</td><td>265</td><td>307</td><td>424</td><td>2346</td><td>8186</td><td>33579</td><td>https://s.gr-assets.com/assets/nophoto/book/111x148-bcc042a9c91a29c1d680899eff700a03.png</td><td>https://s.gr-assets.com/assets/nophoto/book/50x75-a91bf249278a81aabab721ef782c4a74.png</td></tr>",
                            "<tr><td>25</td><td>136251</td><td>136251</td><td>2963218</td><td>263</td><td>545010225</td><td>9780545010220</td><td>J.K. Rowling, Mary GrandPré</td><td>2007</td><td>Harry Potter and the Deathly Hallows</td><td>Harry Potter and the Deathly Hallows (Harry Potter, #7)</td><td>eng</td><td>4.61</td><td>1746574</td><td>1847395</td><td>51942</td><td>9363</td><td>22245</td><td>113646</td><td>383914</td><td>1318227</td><td>https://images.gr-assets.com/books/1474171184m/136251.jpg</td><td>https://images.gr-assets.com/books/1474171184s/136251.jpg</td></tr>",
                            "<tr><td>6141</td><td>1317181</td><td>1317181</td><td>19079807</td><td>8</td><td>185549664X</td><td>9781855496640</td><td>J.K. Rowling</td><td>2003</td><td>NULL</td><td>Harry Potter and the Order of the Phoenix (Harry Potter, #5, Part 1)</td><td>NULL</td><td>4.56</td><td>16249</td><td>16350</td><td>272</td><td>114</td><td>199</td><td>1182</td><td>3744</td><td>11111</td><td>https://s.gr-assets.com/assets/nophoto/book/111x148-bcc042a9c91a29c1d680899eff700a03.png</td><td>https://s.gr-assets.com/assets/nophoto/book/50x75-a91bf249278a81aabab721ef782c4a74.png</td></tr>",
                            "<tr><td>27</td><td>1</td><td>1</td><td>41335427</td><td>275</td><td>439785960</td><td>9780439785970</td><td>J.K. Rowling, Mary GrandPré</td><td>2005</td><td>Harry Potter and the Half-Blood Prince</td><td>Harry Potter and the Half-Blood Prince (Harry Potter, #6)</td><td>eng</td><td>4.54</td><td>1678823</td><td>1785676</td><td>27520</td><td>7308</td><td>21516</td><td>136333</td><td>459028</td><td>1161491</td><td>https://images.gr-assets.com/books/1361039191m/1.jpg</td><td>https://images.gr-assets.com/books/1361039191s/1.jpg</td></tr>",
                            "<tr><td>18</td><td>5</td><td>5</td><td>2402163</td><td>376</td><td>043965548X</td><td>9780439655480</td><td>J.K. Rowling, Mary GrandPré, Rufus Beck</td><td>1999</td><td>Harry Potter and the Prisoner of Azkaban</td><td>Harry Potter and the Prisoner of Azkaban (Harry Potter, #3)</td><td>eng</td><td>4.53</td><td>1832823</td><td>1969375</td><td>36099</td><td>6716</td><td>20413</td><td>166129</td><td>509447</td><td>1266670</td><td>https://images.gr-assets.com/books/1499277281m/5.jpg</td><td>https://images.gr-assets.com/books/1499277281s/5.jpg</td></tr>",
                            "<tr><td>24</td><td>6</td><td>6</td><td>3046572</td><td>332</td><td>439139600</td><td>9780439139600</td><td>J.K. Rowling, Mary GrandPré</td><td>2000</td><td>Harry Potter and the Goblet of Fire</td><td>Harry Potter and the Goblet of Fire (Harry Potter, #4)</td><td>eng</td><td>4.53</td><td>1753043</td><td>1868642</td><td>31084</td><td>6676</td><td>20210</td><td>151785</td><td>494926</td><td>1195045</td><td>https://images.gr-assets.com/books/1361482611m/6.jpg</td><td>https://images.gr-assets.com/books/1361482611s/6.jpg</td></tr>",
                            "<tr><td>21</td><td>2</td><td>2</td><td>2809203</td><td>307</td><td>439358078</td><td>9780439358070</td><td>J.K. Rowling, Mary GrandPré</td><td>2003</td><td>Harry Potter and the Order of the Phoenix</td><td>Harry Potter and the Order of the Phoenix (Harry Potter, #5)</td><td>eng</td><td>4.46</td><td>1735368</td><td>1840548</td><td>28685</td><td>9528</td><td>31577</td><td>180210</td><td>494427</td><td>1124806</td><td>https://images.gr-assets.com/books/1387141547m/2.jpg</td><td>https://images.gr-assets.com/books/1387141547s/2.jpg</td></tr>",
                            "<tr><td>2</td><td>3</td><td>3</td><td>4640799</td><td>491</td><td>439554934</td><td>9780439554930</td><td>J.K. Rowling, Mary GrandPré</td><td>1997</td><td>Harry Potter and the Philosopher's Stone</td><td>Harry Potter and the Sorcerer's Stone (Harry Potter, #1)</td><td>eng</td><td>4.44</td><td>4602479</td><td>4800065</td><td>75867</td><td>75504</td><td>101676</td><td>455024</td><td>1156318</td><td>3011543</td><td>https://images.gr-assets.com/books/1474154022m/3.jpg</td><td>https://images.gr-assets.com/books/1474154022s/3.jpg</td></tr>",
                            "<tr><td>4641</td><td>30065028</td><td>29363501</td><td>50435175</td><td>49</td><td>NULL</td><td>NULL</td><td>J.K. Rowling</td><td>2016</td><td>Fantastic Beasts and Where to Find Them: The Original Screenplay</td><td>Fantastic Beasts and Where to Find Them: The Original Screenplay</td><td>eng</td><td>4.41</td><td>18290</td><td>42210</td><td>4692</td><td>323</td><td>721</td><td>4257</td><td>13024</td><td>23885</td><td>https://images.gr-assets.com/books/1476913365m/30065028.jpg</td><td>https://images.gr-assets.com/books/1476913365s/30065028.jpg</td></tr>",
                            "<tr><td>9048</td><td>2002</td><td>2002</td><td>8621948</td><td>5</td><td>043932162X</td><td>9780439321620</td><td>J.K. Rowling</td><td>2001</td><td>NULL</td><td>Harry Potter Schoolbooks Box Set: Two Classic Books from the Library of Hogwarts School of Witchcraft and Wizardry</td><td>eng</td><td>4.4</td><td>10736</td><td>11732</td><td>185</td><td>106</td><td>304</td><td>1548</td><td>2595</td><td>7179</td><td>https://images.gr-assets.com/books/1479775271m/2002.jpg</td><td>https://images.gr-assets.com/books/1479775271s/2002.jpg</td></tr>",
                            "<tr><td>23</td><td>15881</td><td>15881</td><td>6231171</td><td>398</td><td>439064864</td><td>9780439064870</td><td>J.K. Rowling, Mary GrandPré</td><td>1998</td><td>Harry Potter and the Chamber of Secrets</td><td>Harry Potter and the Chamber of Secrets (Harry Potter, #2)</td><td>eng</td><td>4.37</td><td>1779331</td><td>1906199</td><td>34172</td><td>8253</td><td>42251</td><td>242345</td><td>548266</td><td>1065084</td><td>https://images.gr-assets.com/books/1474169725m/15881.jpg</td><td>https://images.gr-assets.com/books/1474169725s/15881.jpg</td></tr>",
                            "<tr><td>7929</td><td>23731881</td><td>23731881</td><td>43264515</td><td>6</td><td>316369152</td><td>9780316369150</td><td>J.K. Rowling, Joel Holland</td><td>2015</td><td>Very Good Lives: The Fringe Benefits of Failure and the Importance of Imagination</td><td>Very Good Lives: The Fringe Benefits of Failure and the Importance of Imagination</td><td>eng</td><td>4.26</td><td>12510</td><td>13494</td><td>1838</td><td>312</td><td>408</td><td>1755</td><td>3965</td><td>7054</td><td>https://images.gr-assets.com/books/1418419116m/23731881.jpg</td><td>https://images.gr-assets.com/books/1418419116s/23731881.jpg</td></tr>",
                            "<tr><td>6428</td><td>31538635</td><td>31538635</td><td>52885176</td><td>18</td><td>1781106282</td><td>9781781106280</td><td>J.K. Rowling, MinaLima</td><td>2016</td><td>Short Stories from Hogwarts of Heroism, Hardship and Dangerous Hobbies</td><td>Short Stories from Hogwarts of Heroism, Hardship and Dangerous Hobbies (Pottermore Presents, #1)</td><td>eng</td><td>4.22</td><td>16285</td><td>24805</td><td>1743</td><td>636</td><td>713</td><td>3498</td><td>7555</td><td>12403</td><td>https://images.gr-assets.com/books/1471436733m/31538635.jpg</td><td>https://images.gr-assets.com/books/1471436733s/31538635.jpg</td></tr>",
                            "<tr><td>7523</td><td>31538647</td><td>31538647</td><td>52218770</td><td>18</td><td>NULL</td><td>NULL</td><td>J.K. Rowling</td><td>2016</td><td>Hogwarts: An Incomplete and Unreliable Guide</td><td>Hogwarts: An Incomplete and Unreliable Guide (Pottermore Presents, #3)</td><td>eng</td><td>4.21</td><td>14977</td><td>15844</td><td>1339</td><td>63</td><td>346</td><td>2806</td><td>5543</td><td>7086</td><td>https://images.gr-assets.com/books/1502156557m/31538647.jpg</td><td>https://images.gr-assets.com/books/1502156557s/31538647.jpg</td></tr>",
                            "<tr><td>1065</td><td>25735012</td><td>25735012</td><td>43699375</td><td>83</td><td>316349933</td><td>9780316349930</td><td>Robert Galbraith, J.K. Rowling</td><td>2015</td><td>Career of Evil</td><td>Career of Evil (Cormoran Strike, #3)</td><td>eng</td><td>4.21</td><td>66979</td><td>95274</td><td>10254</td><td>550</td><td>1926</td><td>12591</td><td>42325</td><td>37882</td><td>https://s.gr-assets.com/assets/nophoto/book/111x148-bcc042a9c91a29c1d680899eff700a03.png</td><td>https://s.gr-assets.com/assets/nophoto/book/50x75-a91bf249278a81aabab721ef782c4a74.png</td></tr>",
                            "<tr><td>7443</td><td>31538614</td><td>31538614</td><td>52218734</td><td>18</td><td>1781106290</td><td>9781781106300</td><td>J.K. Rowling, MinaLima</td><td>2016</td><td>Short Stories from Hogwarts of Power, Politics and Pesky Poltergeists</td><td>Short Stories from Hogwarts of Power, Politics and Pesky Poltergeists (Pottermore Presents, #2)</td><td>eng</td><td>4.2</td><td>10032</td><td>15880</td><td>1246</td><td>62</td><td>376</td><td>2872</td><td>5600</td><td>6970</td><td>https://images.gr-assets.com/books/1471436601m/31538614.jpg</td><td>https://images.gr-assets.com/books/1471436601s/31538614.jpg</td></tr>",
                            "<tr><td>8369</td><td>3130430</td><td>3130430</td><td>3161838</td><td>19</td><td>1416554955</td><td>9781416554950</td><td>Melissa Anelli, J.K. Rowling</td><td>2008</td><td>Harry, A History: The True Story of a Boy Wizard, His Fans, and Life Inside the Harry Potter Phenomenon</td><td>Harry, a History: The True Story of a Boy Wizard, His Fans, and Life Inside the Harry Potter Phenomenon</td><td>en-US</td><td>4.09</td><td>12308</td><td>12528</td><td>652</td><td>337</td><td>715</td><td>2386</td><td>3149</td><td>5941</td><td>https://s.gr-assets.com/assets/nophoto/book/111x148-bcc042a9c91a29c1d680899eff700a03.png</td><td>https://s.gr-assets.com/assets/nophoto/book/50x75-a91bf249278a81aabab721ef782c4a74.png</td></tr>",
                            "<tr><td>399</td><td>3950967</td><td>3950967</td><td>3007490</td><td>131</td><td>747599874</td><td>9780747599880</td><td>J.K. Rowling</td><td>2007</td><td>The Tales of Beedle the Bard</td><td>The Tales of Beedle the Bard</td><td>en-US</td><td>4.06</td><td>284833</td><td>319107</td><td>11330</td><td>3019</td><td>15025</td><td>69367</td><td>103350</td><td>128346</td><td>https://images.gr-assets.com/books/1373467575m/3950967.jpg</td><td>https://images.gr-assets.com/books/1373467575s/3950967.jpg</td></tr>",
                            "<tr><td>695</td><td>18214414</td><td>18214414</td><td>25639104</td><td>109</td><td>316206873</td><td>9780316206880</td><td>Robert Galbraith, J.K. Rowling</td><td>2014</td><td>The Silkworm</td><td>The Silkworm (Cormoran Strike, #2)</td><td>eng</td><td>4.03</td><td>120008</td><td>145146</td><td>13549</td><td>1330</td><td>4361</td><td>27130</td><td>67680</td><td>44645</td><td>https://images.gr-assets.com/books/1392577290m/18214414.jpg</td><td>https://images.gr-assets.com/books/1392577290s/18214414.jpg</td></tr>",
                            "<tr><td>469</td><td>41899</td><td>41899</td><td>4195128</td><td>123</td><td>439321603</td><td>9780439321600</td><td>Newt Scamander, J.K. Rowling, Albus Dumbledore</td><td>2001</td><td>Fantastic Beasts and Where to Find Them</td><td>Fantastic Beasts and Where to Find Them</td><td>eng</td><td>3.95</td><td>185928</td><td>209465</td><td>6523</td><td>2847</td><td>13155</td><td>52573</td><td>64027</td><td>76863</td><td>https://images.gr-assets.com/books/1303738520m/41899.jpg</td><td>https://images.gr-assets.com/books/1303738520s/41899.jpg</td></tr>",
                            "<tr><td>1286</td><td>111450</td><td>111450</td><td>6247751</td><td>103</td><td>439321611</td><td>9780439321620</td><td>Kennilworthy Whisp, J.K. Rowling</td><td>2001</td><td>Quidditch Through the Ages</td><td>Quidditch Through the Ages</td><td>eng</td><td>3.85</td><td>90908</td><td>106088</td><td>3502</td><td>1367</td><td>8104</td><td>29884</td><td>32041</td><td>34692</td><td>https://images.gr-assets.com/books/1369689506m/111450.jpg</td><td>https://images.gr-assets.com/books/1369689506s/111450.jpg</td></tr>",
                            "<tr><td>253</td><td>16160797</td><td>16160797</td><td>22002305</td><td>48</td><td>316206849</td><td>9780316206850</td><td>Robert Galbraith, J.K. Rowling</td><td>2013</td><td>The Cuckoo's Calling</td><td>The Cuckoo's Calling (Cormoran Strike, #1)</td><td>en-US</td><td>3.83</td><td>297712</td><td>340495</td><td>27258</td><td>9729</td><td>20151</td><td>79290</td><td>138955</td><td>92370</td><td>https://images.gr-assets.com/books/1358716559m/16160797.jpg</td><td>https://images.gr-assets.com/books/1358716559s/16160797.jpg</td></tr>",
                            "<tr><td>279</td><td>29056083</td><td>29056083</td><td>48765776</td><td>95</td><td>751565350</td><td>9780751565360</td><td>John Tiffany, Jack Thorne, J.K. Rowling</td><td>2016</td><td>Harry Potter and the Cursed Child, Parts One and Two</td><td>Harry Potter and the Cursed Child - Parts One and Two (Harry Potter, #8)</td><td>eng</td><td>3.75</td><td>270603</td><td>397773</td><td>53365</td><td>15828</td><td>35842</td><td>96395</td><td>133156</td><td>116552</td><td>https://images.gr-assets.com/books/1470082995m/29056083.jpg</td><td>https://images.gr-assets.com/books/1470082995s/29056083.jpg</td></tr>",
                            "<tr><td>342</td><td>13497818</td><td>13497818</td><td>19926990</td><td>139</td><td>316228532</td><td>9780316228530</td><td>J.K. Rowling</td><td>2012</td><td>The Casual Vacancy</td><td>The Casual Vacancy</td><td>eng</td><td>3.28</td><td>231835</td><td>254461</td><td>28751</td><td>24583</td><td>38326</td><td>74611</td><td>75741</td><td>41200</td><td>https://images.gr-assets.com/books/1358266832m/13497818.jpg</td><td>https://images.gr-assets.com/books/1358266832s/13497818.jpg</td></tr>",
                            "</table>"
                        ]
                    }
                }
            ],
            "execution_count": 93
        },
        {
            "cell_type": "markdown",
            "source": [
                "Question 9: Write a query that returns the number of Authors whose first name is between rock and roll."
            ],
            "metadata": {
                "azdata_cell_guid": "75bf5054-4918-4e9e-8e03-24a38ffab9cc"
            },
            "attachments": {}
        },
        {
            "cell_type": "code",
            "source": [
                "-- return number of authors whose first name is between rock and roll\n",
                "SELECT COUNT(authors)\n",
                "FROM BooksDB.dbo.books\n",
                "WHERE authors BETWEEN 'rock' and 'roll'\n",
                ""
            ],
            "metadata": {
                "azdata_cell_guid": "491b2492-95d4-4078-b319-386b0c5592ec",
                "language": "sql"
            },
            "outputs": [
                {
                    "output_type": "display_data",
                    "data": {
                        "text/html": "(1 row affected)"
                    },
                    "metadata": {}
                },
                {
                    "output_type": "display_data",
                    "data": {
                        "text/html": "Total execution time: 00:00:00.055"
                    },
                    "metadata": {}
                },
                {
                    "output_type": "execute_result",
                    "metadata": {},
                    "execution_count": 97,
                    "data": {
                        "application/vnd.dataresource+json": {
                            "schema": {
                                "fields": [
                                    {
                                        "name": "(No column name)"
                                    }
                                ]
                            },
                            "data": [
                                {
                                    "(No column name)": "25"
                                }
                            ]
                        },
                        "text/html": [
                            "<table>",
                            "<tr><th>(No column name)</th></tr>",
                            "<tr><td>25</td></tr>",
                            "</table>"
                        ]
                    }
                }
            ],
            "execution_count": 97
        },
        {
            "cell_type": "markdown",
            "source": [
                "## Part 2. Write your own question and write a query to answer it.\n",
                "\n",
                "Your Question:  What were the top 10 books in the year 1994?"
            ],
            "metadata": {
                "azdata_cell_guid": "1ba1363a-4f02-4962-a95a-93b80c5926b1"
            },
            "attachments": {}
        },
        {
            "cell_type": "code",
            "source": [
                "-- Add your querry here\n",
                "SELECT TOP 10 *\n",
                "FROM BooksDB.dbo.books\n",
                "WHERE original_publication_year = 1994\n",
                "ORDER BY average_rating DESC"
            ],
            "metadata": {
                "azdata_cell_guid": "607f1a61-b306-42bf-a20c-60ec3a6ba86a",
                "language": "sql"
            },
            "outputs": [
                {
                    "output_type": "display_data",
                    "data": {
                        "text/html": "(10 rows affected)"
                    },
                    "metadata": {}
                },
                {
                    "output_type": "display_data",
                    "data": {
                        "text/html": "Total execution time: 00:00:00.055"
                    },
                    "metadata": {}
                },
                {
                    "output_type": "execute_result",
                    "metadata": {},
                    "execution_count": 99,
                    "data": {
                        "application/vnd.dataresource+json": {
                            "schema": {
                                "fields": [
                                    {
                                        "name": "id"
                                    },
                                    {
                                        "name": "book_id"
                                    },
                                    {
                                        "name": "best_book_id"
                                    },
                                    {
                                        "name": "work_id"
                                    },
                                    {
                                        "name": "books_count"
                                    },
                                    {
                                        "name": "isbn"
                                    },
                                    {
                                        "name": "isbn13"
                                    },
                                    {
                                        "name": "authors"
                                    },
                                    {
                                        "name": "original_publication_year"
                                    },
                                    {
                                        "name": "original_title"
                                    },
                                    {
                                        "name": "title"
                                    },
                                    {
                                        "name": "language_code"
                                    },
                                    {
                                        "name": "average_rating"
                                    },
                                    {
                                        "name": "ratings_count"
                                    },
                                    {
                                        "name": "work_ratings_count"
                                    },
                                    {
                                        "name": "work_text_reviews_count"
                                    },
                                    {
                                        "name": "ratings_1"
                                    },
                                    {
                                        "name": "ratings_2"
                                    },
                                    {
                                        "name": "ratings_3"
                                    },
                                    {
                                        "name": "ratings_4"
                                    },
                                    {
                                        "name": "ratings_5"
                                    },
                                    {
                                        "name": "image_url"
                                    },
                                    {
                                        "name": "small_image_url"
                                    }
                                ]
                            },
                            "data": [
                                {
                                    "id": "7254",
                                    "book_id": "24816",
                                    "best_book_id": "24816",
                                    "work_id": "2369970",
                                    "books_count": "23",
                                    "isbn": "836217691",
                                    "isbn13": "9780836217700",
                                    "authors": "Bill Watterson",
                                    "original_publication_year": "1994",
                                    "original_title": "Homicidal Psycho Jungle Cat: A Calvin and Hobbes Collection",
                                    "title": "Homicidal Psycho Jungle Cat: A Calvin and Hobbes Collection",
                                    "language_code": "eng",
                                    "average_rating": "4.71",
                                    "ratings_count": "14113",
                                    "work_ratings_count": "15729",
                                    "work_text_reviews_count": "289",
                                    "ratings_1": "13",
                                    "ratings_2": "53",
                                    "ratings_3": "696",
                                    "ratings_4": "2900",
                                    "ratings_5": "12067",
                                    "image_url": "https://images.gr-assets.com/books/1448818381m/24816.jpg",
                                    "small_image_url": "https://images.gr-assets.com/books/1448818381s/24816.jpg"
                                },
                                {
                                    "id": "2940",
                                    "book_id": "46601",
                                    "best_book_id": "46601",
                                    "work_id": "522675",
                                    "books_count": "27",
                                    "isbn": "842313079",
                                    "isbn13": "9780842313070",
                                    "authors": "Francine Rivers",
                                    "original_publication_year": "1994",
                                    "original_title": "An Echo in the Darkness (Mark of the Lion, #2)",
                                    "title": "An Echo in the Darkness (Mark of the Lion, #2)",
                                    "language_code": "en-US",
                                    "average_rating": "4.6",
                                    "ratings_count": "32386",
                                    "work_ratings_count": "33451",
                                    "work_text_reviews_count": "1311",
                                    "ratings_1": "130",
                                    "ratings_2": "359",
                                    "ratings_3": "2138",
                                    "ratings_4": "7372",
                                    "ratings_5": "23452",
                                    "image_url": "https://images.gr-assets.com/books/1481920193m/46601.jpg",
                                    "small_image_url": "https://images.gr-assets.com/books/1481920193s/46601.jpg"
                                },
                                {
                                    "id": "3082",
                                    "book_id": "25105",
                                    "best_book_id": "25105",
                                    "work_id": "40666827",
                                    "books_count": "29",
                                    "isbn": "1563891379",
                                    "isbn13": "9781563891370",
                                    "authors": "Neil Gaiman, Jill Thompson, Vince Locke, Peter Straub",
                                    "original_publication_year": "1994",
                                    "original_title": "The Sandman: Brief Lives",
                                    "title": "Brief Lives (The Sandman #7)",
                                    "language_code": "eng",
                                    "average_rating": "4.55",
                                    "ratings_count": "36487",
                                    "work_ratings_count": "40495",
                                    "work_text_reviews_count": "936",
                                    "ratings_1": "159",
                                    "ratings_2": "344",
                                    "ratings_3": "2757",
                                    "ratings_4": "11185",
                                    "ratings_5": "26050",
                                    "image_url": "https://images.gr-assets.com/books/1339922078m/25105.jpg",
                                    "small_image_url": "https://images.gr-assets.com/books/1339922078s/25105.jpg"
                                },
                                {
                                    "id": "4869",
                                    "book_id": "1693617",
                                    "best_book_id": "1693617",
                                    "work_id": "736980",
                                    "books_count": "7",
                                    "isbn": "1570820872",
                                    "isbn13": "9781570820880",
                                    "authors": "Don Ferguson",
                                    "original_publication_year": "1994",
                                    "original_title": "Disney's the Lion King (Disney Classic Series)",
                                    "title": "Disney's the Lion King",
                                    "language_code": "en-US",
                                    "average_rating": "4.49",
                                    "ratings_count": "19553",
                                    "work_ratings_count": "19564",
                                    "work_text_reviews_count": "77",
                                    "ratings_1": "156",
                                    "ratings_2": "432",
                                    "ratings_3": "2182",
                                    "ratings_4": "3598",
                                    "ratings_5": "13196",
                                    "image_url": "https://s.gr-assets.com/assets/nophoto/book/111x148-bcc042a9c91a29c1d680899eff700a03.png",
                                    "small_image_url": "https://s.gr-assets.com/assets/nophoto/book/50x75-a91bf249278a81aabab721ef782c4a74.png"
                                },
                                {
                                    "id": "9818",
                                    "book_id": "1350249",
                                    "best_book_id": "1350249",
                                    "work_id": "40728295",
                                    "books_count": "48",
                                    "isbn": "717283534",
                                    "isbn13": "9780717283540",
                                    "authors": "Justine Korman Fontes",
                                    "original_publication_year": "1994",
                                    "original_title": "NULL",
                                    "title": "The Lion King (Disney's Wonderful World of Reading)",
                                    "language_code": "eng",
                                    "average_rating": "4.48",
                                    "ratings_count": "9247",
                                    "work_ratings_count": "9340",
                                    "work_text_reviews_count": "34",
                                    "ratings_1": "93",
                                    "ratings_2": "212",
                                    "ratings_3": "1121",
                                    "ratings_4": "1627",
                                    "ratings_5": "6287",
                                    "image_url": "https://s.gr-assets.com/assets/nophoto/book/111x148-bcc042a9c91a29c1d680899eff700a03.png",
                                    "small_image_url": "https://s.gr-assets.com/assets/nophoto/book/50x75-a91bf249278a81aabab721ef782c4a74.png"
                                },
                                {
                                    "id": "4206",
                                    "book_id": "594361",
                                    "best_book_id": "594361",
                                    "work_id": "6533130",
                                    "books_count": "2",
                                    "isbn": "736420959",
                                    "isbn13": "9780736420950",
                                    "authors": "Justine Korman Fontes, Don Williams, Walt Disney Company",
                                    "original_publication_year": "1994",
                                    "original_title": "The Lion King (Little Golden Book)",
                                    "title": "The Lion King: A little Golden Book",
                                    "language_code": "NULL",
                                    "average_rating": "4.46",
                                    "ratings_count": "23098",
                                    "work_ratings_count": "23102",
                                    "work_text_reviews_count": "80",
                                    "ratings_1": "205",
                                    "ratings_2": "545",
                                    "ratings_3": "2803",
                                    "ratings_4": "4333",
                                    "ratings_5": "15216",
                                    "image_url": "https://images.gr-assets.com/books/1320412442m/594361.jpg",
                                    "small_image_url": "https://images.gr-assets.com/books/1320412442s/594361.jpg"
                                },
                                {
                                    "id": "9058",
                                    "book_id": "320700",
                                    "best_book_id": "320700",
                                    "work_id": "3077645",
                                    "books_count": "2",
                                    "isbn": "345444078",
                                    "isbn13": "9780345444070",
                                    "authors": "Stephen Jones, H.P. Lovecraft, Kim Newman, Brian Mooney, Nicholas Royle, David Langford, Michael Marshall Smith, Brian Lumley, Neil Gaiman, Basil Copper, Jack Yeovil, Guy N. Smith, Adrian Cole, D.F. Lewis, Ramsey Campbell, David Sutton, Peter Tremayne",
                                    "original_publication_year": "1994",
                                    "original_title": "The Shadows Over Innsmouth",
                                    "title": "Shadows over Innsmouth",
                                    "language_code": "eng",
                                    "average_rating": "4.43",
                                    "ratings_count": "10663",
                                    "work_ratings_count": "10727",
                                    "work_text_reviews_count": "53",
                                    "ratings_1": "33",
                                    "ratings_2": "135",
                                    "ratings_3": "1150",
                                    "ratings_4": "3328",
                                    "ratings_5": "6081",
                                    "image_url": "https://images.gr-assets.com/books/1293833116m/320700.jpg",
                                    "small_image_url": "https://images.gr-assets.com/books/1293833116s/320700.jpg"
                                },
                                {
                                    "id": "9757",
                                    "book_id": "1145862",
                                    "best_book_id": "1145862",
                                    "work_id": "159813",
                                    "books_count": "8",
                                    "isbn": "399234160",
                                    "isbn13": "9780399234160",
                                    "authors": "Patty Lovell, David Catrow",
                                    "original_publication_year": "1994",
                                    "original_title": "Stand Tall, Molly Lou Melon",
                                    "title": "Stand Tall, Molly Lou Melon",
                                    "language_code": "en-US",
                                    "average_rating": "4.39",
                                    "ratings_count": "11397",
                                    "work_ratings_count": "11479",
                                    "work_text_reviews_count": "734",
                                    "ratings_1": "134",
                                    "ratings_2": "318",
                                    "ratings_3": "1327",
                                    "ratings_4": "2839",
                                    "ratings_5": "6861",
                                    "image_url": "https://images.gr-assets.com/books/1314105738m/1145862.jpg",
                                    "small_image_url": "https://images.gr-assets.com/books/1314105738s/1145862.jpg"
                                },
                                {
                                    "id": "6574",
                                    "book_id": "985386",
                                    "best_book_id": "985386",
                                    "work_id": "970881",
                                    "books_count": "28",
                                    "isbn": "1591163277",
                                    "isbn13": "9781591163280",
                                    "authors": "Gosho Aoyama",
                                    "original_publication_year": "1994",
                                    "original_title": "名探偵コナン 1",
                                    "title": "Case Closed, Vol. 1",
                                    "language_code": "eng",
                                    "average_rating": "4.36",
                                    "ratings_count": "12867",
                                    "work_ratings_count": "13948",
                                    "work_text_reviews_count": "265",
                                    "ratings_1": "200",
                                    "ratings_2": "379",
                                    "ratings_3": "1788",
                                    "ratings_4": "3414",
                                    "ratings_5": "8167",
                                    "image_url": "https://s.gr-assets.com/assets/nophoto/book/111x148-bcc042a9c91a29c1d680899eff700a03.png",
                                    "small_image_url": "https://s.gr-assets.com/assets/nophoto/book/50x75-a91bf249278a81aabab721ef782c4a74.png"
                                },
                                {
                                    "id": "2434",
                                    "book_id": "294963",
                                    "best_book_id": "294963",
                                    "work_id": "286213",
                                    "books_count": "28",
                                    "isbn": "1591162203",
                                    "isbn13": "9781591162210",
                                    "authors": "Nobuhiro Watsuki, Kenichiro Yagi",
                                    "original_publication_year": "1994",
                                    "original_title": "るろうに剣心 1",
                                    "title": "Rurouni Kenshin, Vol. 1: Meiji Swordsman Romantic Story (Rurouni Kenshin, #1)",
                                    "language_code": "eng",
                                    "average_rating": "4.33",
                                    "ratings_count": "36765",
                                    "work_ratings_count": "36994",
                                    "work_text_reviews_count": "261",
                                    "ratings_1": "558",
                                    "ratings_2": "1125",
                                    "ratings_3": "4828",
                                    "ratings_4": "9531",
                                    "ratings_5": "20952",
                                    "image_url": "https://s.gr-assets.com/assets/nophoto/book/111x148-bcc042a9c91a29c1d680899eff700a03.png",
                                    "small_image_url": "https://s.gr-assets.com/assets/nophoto/book/50x75-a91bf249278a81aabab721ef782c4a74.png"
                                }
                            ]
                        },
                        "text/html": [
                            "<table>",
                            "<tr><th>id</th><th>book_id</th><th>best_book_id</th><th>work_id</th><th>books_count</th><th>isbn</th><th>isbn13</th><th>authors</th><th>original_publication_year</th><th>original_title</th><th>title</th><th>language_code</th><th>average_rating</th><th>ratings_count</th><th>work_ratings_count</th><th>work_text_reviews_count</th><th>ratings_1</th><th>ratings_2</th><th>ratings_3</th><th>ratings_4</th><th>ratings_5</th><th>image_url</th><th>small_image_url</th></tr>",
                            "<tr><td>7254</td><td>24816</td><td>24816</td><td>2369970</td><td>23</td><td>836217691</td><td>9780836217700</td><td>Bill Watterson</td><td>1994</td><td>Homicidal Psycho Jungle Cat: A Calvin and Hobbes Collection</td><td>Homicidal Psycho Jungle Cat: A Calvin and Hobbes Collection</td><td>eng</td><td>4.71</td><td>14113</td><td>15729</td><td>289</td><td>13</td><td>53</td><td>696</td><td>2900</td><td>12067</td><td>https://images.gr-assets.com/books/1448818381m/24816.jpg</td><td>https://images.gr-assets.com/books/1448818381s/24816.jpg</td></tr>",
                            "<tr><td>2940</td><td>46601</td><td>46601</td><td>522675</td><td>27</td><td>842313079</td><td>9780842313070</td><td>Francine Rivers</td><td>1994</td><td>An Echo in the Darkness (Mark of the Lion, #2)</td><td>An Echo in the Darkness (Mark of the Lion, #2)</td><td>en-US</td><td>4.6</td><td>32386</td><td>33451</td><td>1311</td><td>130</td><td>359</td><td>2138</td><td>7372</td><td>23452</td><td>https://images.gr-assets.com/books/1481920193m/46601.jpg</td><td>https://images.gr-assets.com/books/1481920193s/46601.jpg</td></tr>",
                            "<tr><td>3082</td><td>25105</td><td>25105</td><td>40666827</td><td>29</td><td>1563891379</td><td>9781563891370</td><td>Neil Gaiman, Jill Thompson, Vince Locke, Peter Straub</td><td>1994</td><td>The Sandman: Brief Lives</td><td>Brief Lives (The Sandman #7)</td><td>eng</td><td>4.55</td><td>36487</td><td>40495</td><td>936</td><td>159</td><td>344</td><td>2757</td><td>11185</td><td>26050</td><td>https://images.gr-assets.com/books/1339922078m/25105.jpg</td><td>https://images.gr-assets.com/books/1339922078s/25105.jpg</td></tr>",
                            "<tr><td>4869</td><td>1693617</td><td>1693617</td><td>736980</td><td>7</td><td>1570820872</td><td>9781570820880</td><td>Don Ferguson</td><td>1994</td><td>Disney's the Lion King (Disney Classic Series)</td><td>Disney's the Lion King</td><td>en-US</td><td>4.49</td><td>19553</td><td>19564</td><td>77</td><td>156</td><td>432</td><td>2182</td><td>3598</td><td>13196</td><td>https://s.gr-assets.com/assets/nophoto/book/111x148-bcc042a9c91a29c1d680899eff700a03.png</td><td>https://s.gr-assets.com/assets/nophoto/book/50x75-a91bf249278a81aabab721ef782c4a74.png</td></tr>",
                            "<tr><td>9818</td><td>1350249</td><td>1350249</td><td>40728295</td><td>48</td><td>717283534</td><td>9780717283540</td><td>Justine Korman Fontes</td><td>1994</td><td>NULL</td><td>The Lion King (Disney's Wonderful World of Reading)</td><td>eng</td><td>4.48</td><td>9247</td><td>9340</td><td>34</td><td>93</td><td>212</td><td>1121</td><td>1627</td><td>6287</td><td>https://s.gr-assets.com/assets/nophoto/book/111x148-bcc042a9c91a29c1d680899eff700a03.png</td><td>https://s.gr-assets.com/assets/nophoto/book/50x75-a91bf249278a81aabab721ef782c4a74.png</td></tr>",
                            "<tr><td>4206</td><td>594361</td><td>594361</td><td>6533130</td><td>2</td><td>736420959</td><td>9780736420950</td><td>Justine Korman Fontes, Don Williams, Walt Disney Company</td><td>1994</td><td>The Lion King (Little Golden Book)</td><td>The Lion King: A little Golden Book</td><td>NULL</td><td>4.46</td><td>23098</td><td>23102</td><td>80</td><td>205</td><td>545</td><td>2803</td><td>4333</td><td>15216</td><td>https://images.gr-assets.com/books/1320412442m/594361.jpg</td><td>https://images.gr-assets.com/books/1320412442s/594361.jpg</td></tr>",
                            "<tr><td>9058</td><td>320700</td><td>320700</td><td>3077645</td><td>2</td><td>345444078</td><td>9780345444070</td><td>Stephen Jones, H.P. Lovecraft, Kim Newman, Brian Mooney, Nicholas Royle, David Langford, Michael Marshall Smith, Brian Lumley, Neil Gaiman, Basil Copper, Jack Yeovil, Guy N. Smith, Adrian Cole, D.F. Lewis, Ramsey Campbell, David Sutton, Peter Tremayne</td><td>1994</td><td>The Shadows Over Innsmouth</td><td>Shadows over Innsmouth</td><td>eng</td><td>4.43</td><td>10663</td><td>10727</td><td>53</td><td>33</td><td>135</td><td>1150</td><td>3328</td><td>6081</td><td>https://images.gr-assets.com/books/1293833116m/320700.jpg</td><td>https://images.gr-assets.com/books/1293833116s/320700.jpg</td></tr>",
                            "<tr><td>9757</td><td>1145862</td><td>1145862</td><td>159813</td><td>8</td><td>399234160</td><td>9780399234160</td><td>Patty Lovell, David Catrow</td><td>1994</td><td>Stand Tall, Molly Lou Melon</td><td>Stand Tall, Molly Lou Melon</td><td>en-US</td><td>4.39</td><td>11397</td><td>11479</td><td>734</td><td>134</td><td>318</td><td>1327</td><td>2839</td><td>6861</td><td>https://images.gr-assets.com/books/1314105738m/1145862.jpg</td><td>https://images.gr-assets.com/books/1314105738s/1145862.jpg</td></tr>",
                            "<tr><td>6574</td><td>985386</td><td>985386</td><td>970881</td><td>28</td><td>1591163277</td><td>9781591163280</td><td>Gosho Aoyama</td><td>1994</td><td>名探偵コナン 1</td><td>Case Closed, Vol. 1</td><td>eng</td><td>4.36</td><td>12867</td><td>13948</td><td>265</td><td>200</td><td>379</td><td>1788</td><td>3414</td><td>8167</td><td>https://s.gr-assets.com/assets/nophoto/book/111x148-bcc042a9c91a29c1d680899eff700a03.png</td><td>https://s.gr-assets.com/assets/nophoto/book/50x75-a91bf249278a81aabab721ef782c4a74.png</td></tr>",
                            "<tr><td>2434</td><td>294963</td><td>294963</td><td>286213</td><td>28</td><td>1591162203</td><td>9781591162210</td><td>Nobuhiro Watsuki, Kenichiro Yagi</td><td>1994</td><td>るろうに剣心 1</td><td>Rurouni Kenshin, Vol. 1: Meiji Swordsman Romantic Story (Rurouni Kenshin, #1)</td><td>eng</td><td>4.33</td><td>36765</td><td>36994</td><td>261</td><td>558</td><td>1125</td><td>4828</td><td>9531</td><td>20952</td><td>https://s.gr-assets.com/assets/nophoto/book/111x148-bcc042a9c91a29c1d680899eff700a03.png</td><td>https://s.gr-assets.com/assets/nophoto/book/50x75-a91bf249278a81aabab721ef782c4a74.png</td></tr>",
                            "</table>"
                        ]
                    }
                }
            ],
            "execution_count": 99
        },
        {
            "cell_type": "markdown",
            "source": [
                "Your Question: Which author has the most books?"
            ],
            "metadata": {
                "azdata_cell_guid": "9386ad04-a016-44d4-8c5c-d25a102d47b4"
            },
            "attachments": {}
        },
        {
            "cell_type": "code",
            "source": [
                "-- Add your querry here\n",
                "SELECT TOP 3 books_count, authors\n",
                "FROM BooksDB.dbo.books\n",
                "ORDER BY books_count DESC\n",
                ""
            ],
            "metadata": {
                "azdata_cell_guid": "15f249cf-aad7-468d-92e1-429b2a09f285",
                "language": "sql"
            },
            "outputs": [
                {
                    "output_type": "display_data",
                    "data": {
                        "text/html": "(3 rows affected)"
                    },
                    "metadata": {}
                },
                {
                    "output_type": "display_data",
                    "data": {
                        "text/html": "Total execution time: 00:00:00.085"
                    },
                    "metadata": {}
                },
                {
                    "output_type": "execute_result",
                    "metadata": {},
                    "execution_count": 110,
                    "data": {
                        "application/vnd.dataresource+json": {
                            "schema": {
                                "fields": [
                                    {
                                        "name": "books_count"
                                    },
                                    {
                                        "name": "authors"
                                    }
                                ]
                            },
                            "data": [
                                {
                                    "books_count": "3455",
                                    "authors": "Jane Austen"
                                },
                                {
                                    "books_count": "3296",
                                    "authors": "Lewis Carroll, John Tenniel"
                                },
                                {
                                    "books_count": "2618",
                                    "authors": "Mary Wollstonecraft Shelley, Percy Bysshe Shelley, Maurice Hindle"
                                }
                            ]
                        },
                        "text/html": [
                            "<table>",
                            "<tr><th>books_count</th><th>authors</th></tr>",
                            "<tr><td>3455</td><td>Jane Austen</td></tr>",
                            "<tr><td>3296</td><td>Lewis Carroll, John Tenniel</td></tr>",
                            "<tr><td>2618</td><td>Mary Wollstonecraft Shelley, Percy Bysshe Shelley, Maurice Hindle</td></tr>",
                            "</table>"
                        ]
                    }
                }
            ],
            "execution_count": 110
        },
        {
            "cell_type": "markdown",
            "source": [
                "**Some Question Examples:**\n",
                "\n",
                "Write a query that returns the longest title?\n",
                "\n",
                "Which Author has written the most books?  \n",
                "\n",
                "Top  ten books written the year I was born?"
            ],
            "metadata": {
                "azdata_cell_guid": "7160362b-7127-4123-bd1d-95a94ae38a07"
            }
        }
    ]
}